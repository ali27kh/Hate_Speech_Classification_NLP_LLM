{
 "cells": [
  {
   "cell_type": "code",
   "execution_count": 133,
   "metadata": {},
   "outputs": [],
   "source": [
    "from sklearn.preprocessing import LabelEncoder\n",
    "import warnings\n",
    "warnings.filterwarnings('ignore')\n",
    "import pandas as pd \n",
    "import numpy as np  \n",
    "import matplotlib.pyplot as plt\n",
    "import nltk\n",
    "from nltk.corpus import words\n",
    "import torch\n",
    "from Models.CNN import CNN,Model_training,load_data,plot_metrics,evaluate_cnn_model\n",
    "import re\n",
    "import language_tool_python\n",
    "from collections import Counter\n",
    "from PIL import Image\n",
    "from textblob import TextBlob\n",
    "import cufflinks as cf\n",
    "import plotly.express as px\n",
    "import plotly.figure_factory as ff\n",
    "from sklearn.metrics import accuracy_score, f1_score, classification_report, confusion_matrix\n",
    "# import torch\n",
    "# from transformers import PegasusForConditionalGeneration, PegasusTokenizer\n",
    "# from transformers import T5Tokenizer, T5ForConditionalGeneration\n",
    "# from transformers import GPT2Tokenizer, GPT2LMHeadModel\n",
    "from Prog.ModelEvaluator import ModelEvaluator\n",
    "from Models.HARDVOTING_multi import HardVotingClassifier\n",
    "from Models.XGBoost import XGBoostClassifier\n",
    "from Models.KNN import KNNClassifier \n",
    "from imblearn.over_sampling import SMOTE\n",
    "from Models.SVM import SVMClassifier\n",
    "from Models.LSTM import LSTMClassifier\n",
    "from sklearn.model_selection import train_test_split\n",
    "from wordcloud import WordCloud,STOPWORDS\n",
    "from nltk.corpus import stopwords\n",
    "from plotly import graph_objs as go\n",
    "from collections import defaultdict\n",
    "import pandas as pd\n",
    "from plotly import tools\n",
    "from plotly.offline import iplot\n",
    "from palettable.colorbrewer.qualitative import Pastel1_7\n",
    "\n",
    "\n"
   ]
  },
  {
   "cell_type": "code",
   "execution_count": 46,
   "metadata": {},
   "outputs": [],
   "source": [
    "from Preprocess.data_cleaning import DataCleaning\n",
    "from Preprocess.data_visualisation import Data_visualisation\n",
    "from Embeddings.Bert_Embeddings import BertEmbedding\n",
    "from Embeddings.Deberta_embed import DebertaEmbedding\n",
    "from Embeddings.Roberta_Embeddings import RobertaEmbedding"
   ]
  },
  {
   "cell_type": "markdown",
   "metadata": {},
   "source": [
    "### Read data"
   ]
  },
  {
   "cell_type": "code",
   "execution_count": 23,
   "metadata": {},
   "outputs": [],
   "source": [
    "df = pd.read_csv('C:/Users/iyadh/Desktop/hate_speech/Data/Ethos_Dataset_Multi_Label.csv', sep=';')"
   ]
  },
  {
   "cell_type": "code",
   "execution_count": 24,
   "metadata": {},
   "outputs": [
    {
     "data": {
      "text/plain": [
       "Index(['comment', 'violence', 'directed_vs_generalized', 'gender', 'race',\n",
       "       'national_origin', 'disability', 'religion', 'sexual_orientation'],\n",
       "      dtype='object')"
      ]
     },
     "execution_count": 24,
     "metadata": {},
     "output_type": "execute_result"
    }
   ],
   "source": [
    "df.columns"
   ]
  },
  {
   "cell_type": "code",
   "execution_count": 25,
   "metadata": {},
   "outputs": [
    {
     "data": {
      "text/html": [
       "<div>\n",
       "<style scoped>\n",
       "    .dataframe tbody tr th:only-of-type {\n",
       "        vertical-align: middle;\n",
       "    }\n",
       "\n",
       "    .dataframe tbody tr th {\n",
       "        vertical-align: top;\n",
       "    }\n",
       "\n",
       "    .dataframe thead th {\n",
       "        text-align: right;\n",
       "    }\n",
       "</style>\n",
       "<table border=\"1\" class=\"dataframe\">\n",
       "  <thead>\n",
       "    <tr style=\"text-align: right;\">\n",
       "      <th></th>\n",
       "      <th>comment</th>\n",
       "      <th>violence</th>\n",
       "      <th>directed_vs_generalized</th>\n",
       "      <th>gender</th>\n",
       "      <th>race</th>\n",
       "      <th>national_origin</th>\n",
       "      <th>disability</th>\n",
       "      <th>religion</th>\n",
       "      <th>sexual_orientation</th>\n",
       "    </tr>\n",
       "  </thead>\n",
       "  <tbody>\n",
       "    <tr>\n",
       "      <th>0</th>\n",
       "      <td>You should know women's sports are a joke</td>\n",
       "      <td>0.000000</td>\n",
       "      <td>0.000000</td>\n",
       "      <td>1.000000</td>\n",
       "      <td>0.000000</td>\n",
       "      <td>0.000000</td>\n",
       "      <td>0.0</td>\n",
       "      <td>0.0</td>\n",
       "      <td>0.0</td>\n",
       "    </tr>\n",
       "    <tr>\n",
       "      <th>1</th>\n",
       "      <td>You look like Sloth with deeper Down’s syndrome</td>\n",
       "      <td>0.000000</td>\n",
       "      <td>0.833333</td>\n",
       "      <td>0.000000</td>\n",
       "      <td>0.000000</td>\n",
       "      <td>0.000000</td>\n",
       "      <td>1.0</td>\n",
       "      <td>0.0</td>\n",
       "      <td>0.0</td>\n",
       "    </tr>\n",
       "    <tr>\n",
       "      <th>2</th>\n",
       "      <td>You look like Russian and speak like Indian. B...</td>\n",
       "      <td>1.000000</td>\n",
       "      <td>0.500000</td>\n",
       "      <td>0.142857</td>\n",
       "      <td>0.142857</td>\n",
       "      <td>0.714286</td>\n",
       "      <td>0.0</td>\n",
       "      <td>0.0</td>\n",
       "      <td>0.0</td>\n",
       "    </tr>\n",
       "    <tr>\n",
       "      <th>3</th>\n",
       "      <td>Women deserve to be abused, I guess.</td>\n",
       "      <td>0.666667</td>\n",
       "      <td>0.166667</td>\n",
       "      <td>1.000000</td>\n",
       "      <td>0.000000</td>\n",
       "      <td>0.000000</td>\n",
       "      <td>0.0</td>\n",
       "      <td>0.0</td>\n",
       "      <td>0.0</td>\n",
       "    </tr>\n",
       "  </tbody>\n",
       "</table>\n",
       "</div>"
      ],
      "text/plain": [
       "                                             comment  violence  \\\n",
       "0          You should know women's sports are a joke  0.000000   \n",
       "1    You look like Sloth with deeper Down’s syndrome  0.000000   \n",
       "2  You look like Russian and speak like Indian. B...  1.000000   \n",
       "3               Women deserve to be abused, I guess.  0.666667   \n",
       "\n",
       "   directed_vs_generalized    gender      race  national_origin  disability  \\\n",
       "0                 0.000000  1.000000  0.000000         0.000000         0.0   \n",
       "1                 0.833333  0.000000  0.000000         0.000000         1.0   \n",
       "2                 0.500000  0.142857  0.142857         0.714286         0.0   \n",
       "3                 0.166667  1.000000  0.000000         0.000000         0.0   \n",
       "\n",
       "   religion  sexual_orientation  \n",
       "0       0.0                 0.0  \n",
       "1       0.0                 0.0  \n",
       "2       0.0                 0.0  \n",
       "3       0.0                 0.0  "
      ]
     },
     "execution_count": 25,
     "metadata": {},
     "output_type": "execute_result"
    }
   ],
   "source": [
    "df.head(4)"
   ]
  },
  {
   "cell_type": "code",
   "execution_count": 26,
   "metadata": {},
   "outputs": [
    {
     "data": {
      "text/plain": [
       "comment                    0\n",
       "violence                   0\n",
       "directed_vs_generalized    0\n",
       "gender                     0\n",
       "race                       0\n",
       "national_origin            0\n",
       "disability                 0\n",
       "religion                   0\n",
       "sexual_orientation         0\n",
       "dtype: int64"
      ]
     },
     "execution_count": 26,
     "metadata": {},
     "output_type": "execute_result"
    }
   ],
   "source": [
    "df.isnull().sum()"
   ]
  },
  {
   "cell_type": "code",
   "execution_count": 27,
   "metadata": {},
   "outputs": [
    {
     "data": {
      "text/plain": [
       "(433, 9)"
      ]
     },
     "execution_count": 27,
     "metadata": {},
     "output_type": "execute_result"
    }
   ],
   "source": [
    "df.shape"
   ]
  },
  {
   "cell_type": "markdown",
   "metadata": {},
   "source": [
    "### Preprocess data"
   ]
  },
  {
   "cell_type": "code",
   "execution_count": 28,
   "metadata": {},
   "outputs": [],
   "source": [
    "# Create new DataFrame\n",
    "df_fin = df[['comment']].copy()\n",
    "cols = df.columns[1:]\n",
    "\n",
    "# Get the column name with the maximum value\n",
    "df_fin['class'] = df[cols].idxmax(axis=1)"
   ]
  },
  {
   "cell_type": "code",
   "execution_count": 29,
   "metadata": {},
   "outputs": [
    {
     "data": {
      "text/html": [
       "<div>\n",
       "<style scoped>\n",
       "    .dataframe tbody tr th:only-of-type {\n",
       "        vertical-align: middle;\n",
       "    }\n",
       "\n",
       "    .dataframe tbody tr th {\n",
       "        vertical-align: top;\n",
       "    }\n",
       "\n",
       "    .dataframe thead th {\n",
       "        text-align: right;\n",
       "    }\n",
       "</style>\n",
       "<table border=\"1\" class=\"dataframe\">\n",
       "  <thead>\n",
       "    <tr style=\"text-align: right;\">\n",
       "      <th></th>\n",
       "      <th>comment</th>\n",
       "      <th>class</th>\n",
       "    </tr>\n",
       "  </thead>\n",
       "  <tbody>\n",
       "    <tr>\n",
       "      <th>0</th>\n",
       "      <td>You should know women's sports are a joke</td>\n",
       "      <td>gender</td>\n",
       "    </tr>\n",
       "    <tr>\n",
       "      <th>1</th>\n",
       "      <td>You look like Sloth with deeper Down’s syndrome</td>\n",
       "      <td>disability</td>\n",
       "    </tr>\n",
       "    <tr>\n",
       "      <th>2</th>\n",
       "      <td>You look like Russian and speak like Indian. B...</td>\n",
       "      <td>violence</td>\n",
       "    </tr>\n",
       "    <tr>\n",
       "      <th>3</th>\n",
       "      <td>Women deserve to be abused, I guess.</td>\n",
       "      <td>gender</td>\n",
       "    </tr>\n",
       "  </tbody>\n",
       "</table>\n",
       "</div>"
      ],
      "text/plain": [
       "                                             comment       class\n",
       "0          You should know women's sports are a joke      gender\n",
       "1    You look like Sloth with deeper Down’s syndrome  disability\n",
       "2  You look like Russian and speak like Indian. B...    violence\n",
       "3               Women deserve to be abused, I guess.      gender"
      ]
     },
     "execution_count": 29,
     "metadata": {},
     "output_type": "execute_result"
    }
   ],
   "source": [
    "df_fin.head(4)"
   ]
  },
  {
   "cell_type": "code",
   "execution_count": 30,
   "metadata": {},
   "outputs": [
    {
     "data": {
      "text/plain": [
       "class\n",
       "violence                   82\n",
       "directed_vs_generalized    61\n",
       "religion                   58\n",
       "race                       58\n",
       "gender                     48\n",
       "sexual_orientation         45\n",
       "national_origin            44\n",
       "disability                 37\n",
       "Name: count, dtype: int64"
      ]
     },
     "execution_count": 30,
     "metadata": {},
     "output_type": "execute_result"
    }
   ],
   "source": [
    "df_fin['class'].value_counts()"
   ]
  },
  {
   "cell_type": "code",
   "execution_count": 31,
   "metadata": {},
   "outputs": [
    {
     "data": {
      "text/plain": [
       "comment    0\n",
       "class      0\n",
       "dtype: int64"
      ]
     },
     "execution_count": 31,
     "metadata": {},
     "output_type": "execute_result"
    }
   ],
   "source": [
    "df_fin.isnull().sum()"
   ]
  },
  {
   "cell_type": "markdown",
   "metadata": {},
   "source": [
    "## 2. Data Perprocessing"
   ]
  },
  {
   "cell_type": "code",
   "execution_count": 33,
   "metadata": {},
   "outputs": [],
   "source": [
    "df_fin['cleaned_comment'] = df['comment'].apply(DataCleaning.preprocess_text)"
   ]
  },
  {
   "cell_type": "code",
   "execution_count": 34,
   "metadata": {},
   "outputs": [
    {
     "data": {
      "text/html": [
       "<div>\n",
       "<style scoped>\n",
       "    .dataframe tbody tr th:only-of-type {\n",
       "        vertical-align: middle;\n",
       "    }\n",
       "\n",
       "    .dataframe tbody tr th {\n",
       "        vertical-align: top;\n",
       "    }\n",
       "\n",
       "    .dataframe thead th {\n",
       "        text-align: right;\n",
       "    }\n",
       "</style>\n",
       "<table border=\"1\" class=\"dataframe\">\n",
       "  <thead>\n",
       "    <tr style=\"text-align: right;\">\n",
       "      <th></th>\n",
       "      <th>comment</th>\n",
       "      <th>class</th>\n",
       "      <th>cleaned_comment</th>\n",
       "    </tr>\n",
       "  </thead>\n",
       "  <tbody>\n",
       "    <tr>\n",
       "      <th>0</th>\n",
       "      <td>You should know women's sports are a joke</td>\n",
       "      <td>gender</td>\n",
       "      <td>You should know women's sports are a joke</td>\n",
       "    </tr>\n",
       "    <tr>\n",
       "      <th>1</th>\n",
       "      <td>You look like Sloth with deeper Down’s syndrome</td>\n",
       "      <td>disability</td>\n",
       "      <td>You look like sloth with deeper downs syndrome</td>\n",
       "    </tr>\n",
       "    <tr>\n",
       "      <th>2</th>\n",
       "      <td>You look like Russian and speak like Indian. B...</td>\n",
       "      <td>violence</td>\n",
       "      <td>You look like Russian and speak like Indian bo...</td>\n",
       "    </tr>\n",
       "    <tr>\n",
       "      <th>3</th>\n",
       "      <td>Women deserve to be abused, I guess.</td>\n",
       "      <td>gender</td>\n",
       "      <td>Women deserve to be abused I guess</td>\n",
       "    </tr>\n",
       "    <tr>\n",
       "      <th>4</th>\n",
       "      <td>Women are made for making babies and cooking d...</td>\n",
       "      <td>gender</td>\n",
       "      <td>Women are made for making babies and cooking d...</td>\n",
       "    </tr>\n",
       "    <tr>\n",
       "      <th>...</th>\n",
       "      <td>...</td>\n",
       "      <td>...</td>\n",
       "      <td>...</td>\n",
       "    </tr>\n",
       "    <tr>\n",
       "      <th>428</th>\n",
       "      <td>All people are fucked up because of these quee...</td>\n",
       "      <td>gender</td>\n",
       "      <td>All people are fucked up because of this queer...</td>\n",
       "    </tr>\n",
       "    <tr>\n",
       "      <th>429</th>\n",
       "      <td>Actually THIS WEIRD PEOPLE are HARMFUL! They n...</td>\n",
       "      <td>directed_vs_generalized</td>\n",
       "      <td>Actually this weird people are harmful they ne...</td>\n",
       "    </tr>\n",
       "    <tr>\n",
       "      <th>430</th>\n",
       "      <td>ABU DA BI ABA DU BA BA HAMUD! See? I’m an arab...</td>\n",
       "      <td>religion</td>\n",
       "      <td>Abu the bi ABA Du ba Hamid see I am an Arab pr...</td>\n",
       "    </tr>\n",
       "    <tr>\n",
       "      <th>431</th>\n",
       "      <td>a homo? so you fuck your brother instead of yo...</td>\n",
       "      <td>sexual_orientation</td>\n",
       "      <td>A homo so you fuck your brother instead of you...</td>\n",
       "    </tr>\n",
       "    <tr>\n",
       "      <th>432</th>\n",
       "      <td>(((They))) will be chased out of every white c...</td>\n",
       "      <td>race</td>\n",
       "      <td>They will be chased out of every white country...</td>\n",
       "    </tr>\n",
       "  </tbody>\n",
       "</table>\n",
       "<p>433 rows × 3 columns</p>\n",
       "</div>"
      ],
      "text/plain": [
       "                                               comment  \\\n",
       "0            You should know women's sports are a joke   \n",
       "1      You look like Sloth with deeper Down’s syndrome   \n",
       "2    You look like Russian and speak like Indian. B...   \n",
       "3                 Women deserve to be abused, I guess.   \n",
       "4    Women are made for making babies and cooking d...   \n",
       "..                                                 ...   \n",
       "428  All people are fucked up because of these quee...   \n",
       "429  Actually THIS WEIRD PEOPLE are HARMFUL! They n...   \n",
       "430  ABU DA BI ABA DU BA BA HAMUD! See? I’m an arab...   \n",
       "431  a homo? so you fuck your brother instead of yo...   \n",
       "432  (((They))) will be chased out of every white c...   \n",
       "\n",
       "                       class  \\\n",
       "0                     gender   \n",
       "1                 disability   \n",
       "2                   violence   \n",
       "3                     gender   \n",
       "4                     gender   \n",
       "..                       ...   \n",
       "428                   gender   \n",
       "429  directed_vs_generalized   \n",
       "430                 religion   \n",
       "431       sexual_orientation   \n",
       "432                     race   \n",
       "\n",
       "                                       cleaned_comment  \n",
       "0            You should know women's sports are a joke  \n",
       "1       You look like sloth with deeper downs syndrome  \n",
       "2    You look like Russian and speak like Indian bo...  \n",
       "3                   Women deserve to be abused I guess  \n",
       "4    Women are made for making babies and cooking d...  \n",
       "..                                                 ...  \n",
       "428  All people are fucked up because of this queer...  \n",
       "429  Actually this weird people are harmful they ne...  \n",
       "430  Abu the bi ABA Du ba Hamid see I am an Arab pr...  \n",
       "431  A homo so you fuck your brother instead of you...  \n",
       "432  They will be chased out of every white country...  \n",
       "\n",
       "[433 rows x 3 columns]"
      ]
     },
     "execution_count": 34,
     "metadata": {},
     "output_type": "execute_result"
    }
   ],
   "source": [
    "df_fin"
   ]
  },
  {
   "cell_type": "code",
   "execution_count": null,
   "metadata": {},
   "outputs": [],
   "source": []
  },
  {
   "cell_type": "markdown",
   "metadata": {},
   "source": [
    "# 4. Data augmentation\n",
    "##### Since we dont have cuda were going to run in colab and u can find the notebooks in folder colab notebooks\n"
   ]
  },
  {
   "cell_type": "markdown",
   "metadata": {},
   "source": [
    "# 4. Data visulaisation"
   ]
  },
  {
   "cell_type": "code",
   "execution_count": null,
   "metadata": {},
   "outputs": [],
   "source": []
  },
  {
   "cell_type": "code",
   "execution_count": null,
   "metadata": {},
   "outputs": [],
   "source": []
  },
  {
   "cell_type": "markdown",
   "metadata": {},
   "source": [
    "# 5. Data modeling"
   ]
  },
  {
   "cell_type": "code",
   "execution_count": 37,
   "metadata": {},
   "outputs": [],
   "source": [
    "# Encode target variable\n",
    "le = LabelEncoder()\n",
    "df_fin['class'] = le.fit_transform(df_fin['class'])"
   ]
  },
  {
   "cell_type": "code",
   "execution_count": 43,
   "metadata": {},
   "outputs": [
    {
     "name": "stdout",
     "output_type": "stream",
     "text": [
      "Class: directed_vs_generalized, Encoded Value: 0\n",
      "Class: disability, Encoded Value: 1\n",
      "Class: gender, Encoded Value: 2\n",
      "Class: national_origin, Encoded Value: 3\n",
      "Class: race, Encoded Value: 4\n",
      "Class: religion, Encoded Value: 5\n",
      "Class: sexual_orientation, Encoded Value: 6\n",
      "Class: violence, Encoded Value: 7\n"
     ]
    }
   ],
   "source": [
    "# Create a mapping dictionary\n",
    "class_mapping = dict(zip(le.classes_, le.transform(le.classes_)))\n",
    "for class_name, encoded_value in class_mapping.items():\n",
    "    print(f\"Class: {class_name}, Encoded Value: {encoded_value}\")"
   ]
  },
  {
   "cell_type": "markdown",
   "metadata": {},
   "source": [
    "## We'll start with bert embeddings"
   ]
  },
  {
   "cell_type": "code",
   "execution_count": 44,
   "metadata": {},
   "outputs": [],
   "source": [
    "df = df_fin[['cleaned_comment', 'class']]"
   ]
  },
  {
   "cell_type": "code",
   "execution_count": 47,
   "metadata": {},
   "outputs": [
    {
     "name": "stdout",
     "output_type": "stream",
     "text": [
      "Data shapes : (346, 2) (87, 2)\n"
     ]
    }
   ],
   "source": [
    "traindata,testdata=train_test_split(df,test_size=0.2,random_state=42)\n",
    "print('Data shapes :',traindata.shape,testdata.shape)"
   ]
  },
  {
   "cell_type": "code",
   "execution_count": 48,
   "metadata": {},
   "outputs": [],
   "source": [
    "train_comments = traindata['cleaned_comment'].values.tolist()\n",
    "train_labels = traindata['class'].values.tolist()\n",
    "test_comments = testdata['cleaned_comment'].values.tolist()\n",
    "test_labels = testdata['class'].values.tolist()\n",
    "\n",
    "train_comments, val_comments, train_labels, val_labels = train_test_split(train_comments, train_labels,\n",
    "                                                                            test_size=0.1,random_state=42,stratify=train_labels)"
   ]
  },
  {
   "cell_type": "code",
   "execution_count": 49,
   "metadata": {},
   "outputs": [
    {
     "name": "stdout",
     "output_type": "stream",
     "text": [
      "Comments len :\n",
      "----\n",
      "train_comments 311\n",
      "test_comments 87\n",
      "valid_comments 35\n",
      "----\n"
     ]
    }
   ],
   "source": [
    "print('Comments len :')\n",
    "print('----')\n",
    "print('train_comments',len(train_comments))\n",
    "print('test_comments',len(test_comments))\n",
    "print('valid_comments',len(val_comments))\n",
    "print('----')"
   ]
  },
  {
   "cell_type": "code",
   "execution_count": 50,
   "metadata": {},
   "outputs": [],
   "source": [
    "# Instance of bert embeddings\n",
    "BertEmbed=BertEmbedding(train_comments, test_comments, val_comments)"
   ]
  },
  {
   "cell_type": "code",
   "execution_count": 51,
   "metadata": {},
   "outputs": [],
   "source": [
    "tokenizer, train_embeddings, val_embeddings, test_embeddings =  BertEmbed.generate_bert_embeddings()"
   ]
  },
  {
   "cell_type": "code",
   "execution_count": 52,
   "metadata": {},
   "outputs": [
    {
     "name": "stdout",
     "output_type": "stream",
     "text": [
      "(311, 2)\n"
     ]
    },
    {
     "data": {
      "text/html": [
       "<div>\n",
       "<style scoped>\n",
       "    .dataframe tbody tr th:only-of-type {\n",
       "        vertical-align: middle;\n",
       "    }\n",
       "\n",
       "    .dataframe tbody tr th {\n",
       "        vertical-align: top;\n",
       "    }\n",
       "\n",
       "    .dataframe thead th {\n",
       "        text-align: right;\n",
       "    }\n",
       "</style>\n",
       "<table border=\"1\" class=\"dataframe\">\n",
       "  <thead>\n",
       "    <tr style=\"text-align: right;\">\n",
       "      <th></th>\n",
       "      <th>comment_embedding</th>\n",
       "      <th>label</th>\n",
       "    </tr>\n",
       "  </thead>\n",
       "  <tbody>\n",
       "    <tr>\n",
       "      <th>0</th>\n",
       "      <td>[0.15560097, 0.04676331, 0.4400749, -0.430222,...</td>\n",
       "      <td>7</td>\n",
       "    </tr>\n",
       "    <tr>\n",
       "      <th>1</th>\n",
       "      <td>[0.2567176, 0.88707924, -0.20989671, -0.201974...</td>\n",
       "      <td>2</td>\n",
       "    </tr>\n",
       "    <tr>\n",
       "      <th>2</th>\n",
       "      <td>[-0.1106464, 0.095631294, -0.63025504, 0.19453...</td>\n",
       "      <td>2</td>\n",
       "    </tr>\n",
       "    <tr>\n",
       "      <th>3</th>\n",
       "      <td>[-0.08840955, 0.14026135, -0.13739222, 0.06525...</td>\n",
       "      <td>7</td>\n",
       "    </tr>\n",
       "  </tbody>\n",
       "</table>\n",
       "</div>"
      ],
      "text/plain": [
       "                                   comment_embedding  label\n",
       "0  [0.15560097, 0.04676331, 0.4400749, -0.430222,...      7\n",
       "1  [0.2567176, 0.88707924, -0.20989671, -0.201974...      2\n",
       "2  [-0.1106464, 0.095631294, -0.63025504, 0.19453...      2\n",
       "3  [-0.08840955, 0.14026135, -0.13739222, 0.06525...      7"
      ]
     },
     "execution_count": 52,
     "metadata": {},
     "output_type": "execute_result"
    }
   ],
   "source": [
    "#Create train dataframe\n",
    "dfinter = []\n",
    "for emb, label in zip(train_embeddings, train_labels):\n",
    "    dfinter.append({'comment_embedding': emb, 'label': label})\n",
    "traindata = pd.DataFrame(dfinter)\n",
    "print(traindata.shape)\n",
    "traindata.head(4)"
   ]
  },
  {
   "cell_type": "code",
   "execution_count": 53,
   "metadata": {},
   "outputs": [
    {
     "name": "stdout",
     "output_type": "stream",
     "text": [
      "(87, 2)\n"
     ]
    },
    {
     "data": {
      "text/html": [
       "<div>\n",
       "<style scoped>\n",
       "    .dataframe tbody tr th:only-of-type {\n",
       "        vertical-align: middle;\n",
       "    }\n",
       "\n",
       "    .dataframe tbody tr th {\n",
       "        vertical-align: top;\n",
       "    }\n",
       "\n",
       "    .dataframe thead th {\n",
       "        text-align: right;\n",
       "    }\n",
       "</style>\n",
       "<table border=\"1\" class=\"dataframe\">\n",
       "  <thead>\n",
       "    <tr style=\"text-align: right;\">\n",
       "      <th></th>\n",
       "      <th>comment_embedding</th>\n",
       "      <th>label</th>\n",
       "    </tr>\n",
       "  </thead>\n",
       "  <tbody>\n",
       "    <tr>\n",
       "      <th>0</th>\n",
       "      <td>[0.3450382, 0.24087611, 0.07176296, -0.1860140...</td>\n",
       "      <td>2</td>\n",
       "    </tr>\n",
       "    <tr>\n",
       "      <th>1</th>\n",
       "      <td>[0.22369659, 0.5763439, -0.56303674, -0.148336...</td>\n",
       "      <td>7</td>\n",
       "    </tr>\n",
       "    <tr>\n",
       "      <th>2</th>\n",
       "      <td>[-0.06582112, 0.5218068, -0.15417518, 0.113241...</td>\n",
       "      <td>3</td>\n",
       "    </tr>\n",
       "    <tr>\n",
       "      <th>3</th>\n",
       "      <td>[0.23757221, 0.44014308, -0.16812348, 0.149735...</td>\n",
       "      <td>0</td>\n",
       "    </tr>\n",
       "  </tbody>\n",
       "</table>\n",
       "</div>"
      ],
      "text/plain": [
       "                                   comment_embedding  label\n",
       "0  [0.3450382, 0.24087611, 0.07176296, -0.1860140...      2\n",
       "1  [0.22369659, 0.5763439, -0.56303674, -0.148336...      7\n",
       "2  [-0.06582112, 0.5218068, -0.15417518, 0.113241...      3\n",
       "3  [0.23757221, 0.44014308, -0.16812348, 0.149735...      0"
      ]
     },
     "execution_count": 53,
     "metadata": {},
     "output_type": "execute_result"
    }
   ],
   "source": [
    "#Create test dataframe\n",
    "dfinter = []\n",
    "for emb, label in zip(test_embeddings, test_labels):\n",
    "    dfinter.append({'comment_embedding': emb, 'label': label})\n",
    "testdata = pd.DataFrame(dfinter)\n",
    "print(testdata.shape)\n",
    "testdata.head(4)"
   ]
  },
  {
   "cell_type": "code",
   "execution_count": 54,
   "metadata": {},
   "outputs": [
    {
     "name": "stdout",
     "output_type": "stream",
     "text": [
      "(35, 2)\n"
     ]
    },
    {
     "data": {
      "text/html": [
       "<div>\n",
       "<style scoped>\n",
       "    .dataframe tbody tr th:only-of-type {\n",
       "        vertical-align: middle;\n",
       "    }\n",
       "\n",
       "    .dataframe tbody tr th {\n",
       "        vertical-align: top;\n",
       "    }\n",
       "\n",
       "    .dataframe thead th {\n",
       "        text-align: right;\n",
       "    }\n",
       "</style>\n",
       "<table border=\"1\" class=\"dataframe\">\n",
       "  <thead>\n",
       "    <tr style=\"text-align: right;\">\n",
       "      <th></th>\n",
       "      <th>comment_embedding</th>\n",
       "      <th>label</th>\n",
       "    </tr>\n",
       "  </thead>\n",
       "  <tbody>\n",
       "    <tr>\n",
       "      <th>0</th>\n",
       "      <td>[-0.18189669, 0.41405547, 0.42645758, -0.43729...</td>\n",
       "      <td>2</td>\n",
       "    </tr>\n",
       "    <tr>\n",
       "      <th>1</th>\n",
       "      <td>[0.055010673, 0.096587606, -0.26337188, 0.2176...</td>\n",
       "      <td>7</td>\n",
       "    </tr>\n",
       "    <tr>\n",
       "      <th>2</th>\n",
       "      <td>[0.41052425, 0.014450371, 0.2141315, 0.2332945...</td>\n",
       "      <td>0</td>\n",
       "    </tr>\n",
       "    <tr>\n",
       "      <th>3</th>\n",
       "      <td>[0.51359546, 0.40643233, -0.1433517, -0.240119...</td>\n",
       "      <td>5</td>\n",
       "    </tr>\n",
       "  </tbody>\n",
       "</table>\n",
       "</div>"
      ],
      "text/plain": [
       "                                   comment_embedding  label\n",
       "0  [-0.18189669, 0.41405547, 0.42645758, -0.43729...      2\n",
       "1  [0.055010673, 0.096587606, -0.26337188, 0.2176...      7\n",
       "2  [0.41052425, 0.014450371, 0.2141315, 0.2332945...      0\n",
       "3  [0.51359546, 0.40643233, -0.1433517, -0.240119...      5"
      ]
     },
     "execution_count": 54,
     "metadata": {},
     "output_type": "execute_result"
    }
   ],
   "source": [
    "#Create val dataframe\n",
    "dfinter = []\n",
    "for emb, label in zip(val_embeddings, val_labels):\n",
    "    dfinter.append({'comment_embedding': emb, 'label': label})\n",
    "valdata = pd.DataFrame(dfinter)\n",
    "print(valdata.shape)\n",
    "valdata.head(4)"
   ]
  },
  {
   "cell_type": "markdown",
   "metadata": {},
   "source": [
    "### CNN"
   ]
  },
  {
   "cell_type": "code",
   "execution_count": 60,
   "metadata": {},
   "outputs": [
    {
     "name": "stdout",
     "output_type": "stream",
     "text": [
      "Epoch [20/20], Train Loss: 0.8429, Val Loss: 1.0386, Train Acc: 0.7492, Val Acc: 0.6000\n"
     ]
    }
   ],
   "source": [
    "#Get data\n",
    "train_data, val_data, test_data = load_data(traindata, valdata, testdata)\n",
    "\n",
    "cnn_model = CNN(768,8)\n",
    "\n",
    "# Entraînement du modèle\n",
    "trainer = Model_training(cnn_model, train_data, val_data,epochs=20)\n",
    "train_losses, val_losses, train_accuracies, val_accuracies = trainer.train()"
   ]
  },
  {
   "cell_type": "code",
   "execution_count": 61,
   "metadata": {},
   "outputs": [
    {
     "data": {
      "image/png": "[encoded data removed]",
      "text/plain": [
       "<Figure size 1000x500 with 1 Axes>"
      ]
     },
     "metadata": {},
     "output_type": "display_data"
    },
    {
     "data": {
      "image/png": "[encoded data removed]",
      "text/plain": [
       "<Figure size 1000x500 with 1 Axes>"
      ]
     },
     "metadata": {},
     "output_type": "display_data"
    }
   ],
   "source": [
    "plot_metrics(train_losses, val_losses, train_accuracies, val_accuracies)"
   ]
  },
  {
   "cell_type": "code",
   "execution_count": 62,
   "metadata": {},
   "outputs": [
    {
     "name": "stdout",
     "output_type": "stream",
     "text": [
      "Accuracy 0.5747, Precision: 0.6449, Recall: 0.5523, F1-score: 0.5525\n",
      "\n",
      "Classification Report:\n",
      "              precision    recall  f1-score   support\n",
      "\n",
      "           0       0.64      0.56      0.60        16\n",
      "           1       0.75      0.33      0.46         9\n",
      "           2       1.00      0.56      0.71         9\n",
      "           3       0.50      0.17      0.25         6\n",
      "           4       0.70      0.54      0.61        13\n",
      "           5       0.50      0.83      0.62         6\n",
      "           6       0.67      0.57      0.62        14\n",
      "           7       0.40      0.86      0.55        14\n",
      "\n",
      "    accuracy                           0.57        87\n",
      "   macro avg       0.64      0.55      0.55        87\n",
      "weighted avg       0.64      0.57      0.57        87\n",
      "\n"
     ]
    },
    {
     "data": {
      "image/png": "[encoded data removed]",
      "text/plain": [
       "<Figure size 600x500 with 2 Axes>"
      ]
     },
     "metadata": {},
     "output_type": "display_data"
    }
   ],
   "source": [
    "evaluate_cnn_model(cnn_model, test_data)"
   ]
  },
  {
   "cell_type": "markdown",
   "metadata": {},
   "source": [
    "## SVM"
   ]
  },
  {
   "cell_type": "code",
   "execution_count": 101,
   "metadata": {},
   "outputs": [],
   "source": [
    "X_train = np.array(traindata['comment_embedding'].tolist())\n",
    "y_train = np.array(traindata['label'])\n",
    "\n",
    "X_val = np.array(valdata['comment_embedding'].tolist())\n",
    "y_val = np.array(valdata['label'])\n",
    "\n",
    "X_test = np.array(testdata['comment_embedding'].tolist())\n",
    "y_test = np.array(testdata['label'])"
   ]
  },
  {
   "cell_type": "code",
   "execution_count": 102,
   "metadata": {},
   "outputs": [],
   "source": [
    "\n",
    "smote = SMOTE(random_state=42)\n",
    "X_train_resampled, y_train_resampled = smote.fit_resample(X_train, y_train)"
   ]
  },
  {
   "cell_type": "code",
   "execution_count": 103,
   "metadata": {},
   "outputs": [],
   "source": [
    "# Instanciation de l'objet SVMClassifier\n",
    "svm_model = SVMClassifier(kernel='linear')"
   ]
  },
  {
   "cell_type": "code",
   "execution_count": 104,
   "metadata": {},
   "outputs": [],
   "source": [
    "# Train SVM model\n",
    "svm_model.train_model(X_train_resampled,y_train_resampled)\n",
    "\n",
    "# Predict on test set\n",
    "y_pred = svm_model.predict_data(X_test)\n"
   ]
  },
  {
   "cell_type": "code",
   "execution_count": 105,
   "metadata": {},
   "outputs": [
    {
     "name": "stdout",
     "output_type": "stream",
     "text": [
      "Train Accuracy: 1.0000\n",
      "Validation Accuracy: 0.6000\n"
     ]
    }
   ],
   "source": [
    "# Vérifier les performances après l'entraînement\n",
    "train_accuracy = svm_model.model.score(X_train_resampled, y_train_resampled)\n",
    "val_accuracy = svm_model.model.score(X_val, y_val)\n",
    "\n",
    "print(f\"Train Accuracy: {train_accuracy:.4f}\")\n",
    "print(f\"Validation Accuracy: {val_accuracy:.4f}\")\n"
   ]
  },
  {
   "cell_type": "code",
   "execution_count": 106,
   "metadata": {},
   "outputs": [
    {
     "name": "stdout",
     "output_type": "stream",
     "text": [
      "Accuracy: 0.5632, Precision: 0.5650, Recall: 0.5448, F1-score: 0.5404\n",
      "\n",
      "Detailed Classification Report:\n",
      "              precision    recall  f1-score   support\n",
      "\n",
      "           0       0.59      0.81      0.68        16\n",
      "           1       0.75      0.67      0.71         9\n",
      "           2       0.67      0.67      0.67         9\n",
      "           3       0.33      0.33      0.33         6\n",
      "           4       0.50      0.31      0.38        13\n",
      "           5       0.33      0.50      0.40         6\n",
      "           6       0.88      0.50      0.64        14\n",
      "           7       0.47      0.57      0.52        14\n",
      "\n",
      "    accuracy                           0.56        87\n",
      "   macro avg       0.56      0.54      0.54        87\n",
      "weighted avg       0.59      0.56      0.56        87\n",
      "\n"
     ]
    },
    {
     "data": {
      "image/png": "[encoded data removed]",
      "text/plain": [
       "<Figure size 800x600 with 2 Axes>"
      ]
     },
     "metadata": {},
     "output_type": "display_data"
    }
   ],
   "source": [
    "svm_model.evaluate_svm_model(X_test, y_test)"
   ]
  },
  {
   "cell_type": "markdown",
   "metadata": {},
   "source": [
    "### KNN"
   ]
  },
  {
   "cell_type": "code",
   "execution_count": 119,
   "metadata": {},
   "outputs": [],
   "source": [
    "knn_classifier = KNNClassifier(n_neighbors=3)"
   ]
  },
  {
   "cell_type": "code",
   "execution_count": 120,
   "metadata": {},
   "outputs": [],
   "source": [
    "# Train KNN model\n",
    "knn_classifier.train_model(X_train_resampled,y_train_resampled)\n"
   ]
  },
  {
   "cell_type": "code",
   "execution_count": 132,
   "metadata": {},
   "outputs": [
    {
     "name": "stdout",
     "output_type": "stream",
     "text": [
      "Accuracy: 0.2989, Precision: 0.3115, Recall: 0.3018, F1-score: 0.2714\n",
      "\n",
      "Detailed Classification Report:\n",
      "              precision    recall  f1-score   support\n",
      "\n",
      "           0       0.39      0.44      0.41        16\n",
      "           1       0.27      0.67      0.39         9\n",
      "           2       0.33      0.22      0.27         9\n",
      "           3       0.11      0.17      0.13         6\n",
      "           4       0.30      0.23      0.26        13\n",
      "           5       0.22      0.33      0.27         6\n",
      "           6       0.36      0.29      0.32        14\n",
      "           7       0.50      0.07      0.12        14\n",
      "\n",
      "    accuracy                           0.30        87\n",
      "   macro avg       0.31      0.30      0.27        87\n",
      "weighted avg       0.34      0.30      0.28        87\n",
      "\n"
     ]
    },
    {
     "data": {
      "image/png": "[encoded data removed]",
      "text/plain": [
       "<Figure size 800x600 with 2 Axes>"
      ]
     },
     "metadata": {},
     "output_type": "display_data"
    }
   ],
   "source": [
    "knn_classifier.evaluate_knn_model(X_test, y_test)"
   ]
  },
  {
   "cell_type": "markdown",
   "metadata": {},
   "source": [
    "### Neural network"
   ]
  },
  {
   "cell_type": "code",
   "execution_count": 129,
   "metadata": {},
   "outputs": [],
   "source": [
    "from Models.Neural_net import NeuralNetworkClassifier "
   ]
  },
  {
   "cell_type": "code",
   "execution_count": 131,
   "metadata": {},
   "outputs": [
    {
     "name": "stdout",
     "output_type": "stream",
     "text": [
      "Accuracy: 0.6092, Precision: 0.6119, Recall: 0.5938, F1-score: 0.5934\n",
      "\n",
      "Detailed Classification Report:\n",
      "              precision    recall  f1-score   support\n",
      "\n",
      "           0       0.72      0.81      0.76        16\n",
      "           1       0.75      0.67      0.71         9\n",
      "           2       0.60      0.67      0.63         9\n",
      "           3       0.50      0.50      0.50         6\n",
      "           4       0.67      0.46      0.55        13\n",
      "           5       0.43      0.50      0.46         6\n",
      "           6       0.78      0.50      0.61        14\n",
      "           7       0.45      0.64      0.53        14\n",
      "\n",
      "    accuracy                           0.61        87\n",
      "   macro avg       0.61      0.59      0.59        87\n",
      "weighted avg       0.63      0.61      0.61        87\n",
      "\n"
     ]
    },
    {
     "data": {
      "image/png": "[encoded data removed]",
      "text/plain": [
       "<Figure size 800x600 with 2 Axes>"
      ]
     },
     "metadata": {},
     "output_type": "display_data"
    }
   ],
   "source": [
    "nn_classifier = NeuralNetworkClassifier(hidden_layer_sizes=(100,), max_iter=200, activation='relu')\n",
    "\n",
    "# Train the model\n",
    "nn_classifier.train_model(X_train_resampled, y_train_resampled)\n",
    "\n",
    "# Evaluate the model\n",
    "nn_classifier.evaluate_nn_model(X_test, y_test)"
   ]
  },
  {
   "cell_type": "markdown",
   "metadata": {},
   "source": [
    "### Hard Voting"
   ]
  },
  {
   "cell_type": "code",
   "execution_count": 135,
   "metadata": {},
   "outputs": [],
   "source": []
  },
  {
   "cell_type": "code",
   "execution_count": 137,
   "metadata": {},
   "outputs": [
    {
     "name": "stdout",
     "output_type": "stream",
     "text": [
      "Accuracy of Hard Voting Classifier: 0.6857\n"
     ]
    }
   ],
   "source": [
    "# Initialize the HardVotingClassifier with all five models\n",
    "hard_voting_model = HardVotingClassifier(\n",
    "    svm_model=svm_model,\n",
    "    knn_model=knn_classifier,\n",
    "    cnn_model=cnn_model,\n",
    "    nn_model=nn_classifier\n",
    ")\n",
    "\n",
    "# Convert validation data to PyTorch tensor for CNN\n",
    "val_inputs_tensor = torch.tensor(X_val, dtype=torch.float32)\n",
    "\n",
    "# Perform predictions using the hard voting model\n",
    "y_pred = hard_voting_model.predict(X_val, val_inputs_tensor)\n",
    "\n",
    "# Evaluate the model performance (e.g., accuracy)\n",
    "accuracy = accuracy_score(y_val, y_pred)\n",
    "print(f'Accuracy of Hard Voting Classifier: {accuracy:.4f}')\n"
   ]
  },
  {
   "cell_type": "code",
   "execution_count": 138,
   "metadata": {},
   "outputs": [
    {
     "name": "stdout",
     "output_type": "stream",
     "text": [
      "Classification Report:\n",
      "              precision    recall  f1-score   support\n",
      "\n",
      "           0       0.50      0.60      0.55         5\n",
      "           1       1.00      0.67      0.80         3\n",
      "           2       0.75      0.75      0.75         4\n",
      "           3       0.67      0.50      0.57         4\n",
      "           4       0.50      0.50      0.50         4\n",
      "           5       0.67      0.80      0.73         5\n",
      "           6       1.00      1.00      1.00         3\n",
      "           7       0.71      0.71      0.71         7\n",
      "\n",
      "    accuracy                           0.69        35\n",
      "   macro avg       0.72      0.69      0.70        35\n",
      "weighted avg       0.70      0.69      0.69        35\n",
      "\n",
      "\n",
      "Confusion Matrix:\n"
     ]
    },
    {
     "data": {
      "image/png": "[encoded data removed]",
      "text/plain": [
       "<Figure size 800x600 with 2 Axes>"
      ]
     },
     "metadata": {},
     "output_type": "display_data"
    }
   ],
   "source": [
    "# Evaluate the model with the provided validation data\n",
    "hard_voting_model.evaluate(X_val, val_inputs_tensor, y_val)"
   ]
  },
  {
   "cell_type": "code",
   "execution_count": 144,
   "metadata": {},
   "outputs": [
    {
     "name": "stdout",
     "output_type": "stream",
     "text": [
      "---Accuracy with bert embeddings---\n",
      "           Model  Accuracy\n",
      "0    hard_voting  0.685714\n",
      "1            svm  0.600000\n",
      "2            knn  0.400000\n",
      "3            cnn  0.600000\n",
      "4  nn_classifier  0.714286\n"
     ]
    }
   ],
   "source": [
    "import pandas as pd\n",
    "from sklearn.metrics import accuracy_score\n",
    "import torch\n",
    "\n",
    "class ModelEvaluator:\n",
    "    def __init__(self, models, model_instances, X_val, val_inputs_tensor, y_val):\n",
    "        self.models = models\n",
    "        self.model_instances = model_instances\n",
    "        self.X_val = X_val\n",
    "        self.val_inputs_tensor = val_inputs_tensor\n",
    "        self.y_val = y_val\n",
    "        self.accuracies = {}\n",
    "    \n",
    "    def get_accuracy(self, model):\n",
    "        model_instance = self.model_instances.get(model)\n",
    "        \n",
    "        if model == 'hard_voting':\n",
    "            y_pred = model_instance.predict(self.X_val, self.val_inputs_tensor)\n",
    "        elif model == 'svm':\n",
    "            y_pred = model_instance.predict_data(self.X_val)\n",
    "        elif model == 'knn':\n",
    "            y_pred = model_instance.predict_data(self.X_val)\n",
    "        elif model == 'nn_classifier':  # Neural Network Classifier\n",
    "            y_pred = model_instance.predict_data(self.X_val)\n",
    "        elif model == 'cnn':\n",
    "            with torch.no_grad():\n",
    "                cnn_preds_raw = model_instance(self.val_inputs_tensor)\n",
    "                y_pred = torch.argmax(torch.softmax(cnn_preds_raw, dim=1), dim=1).cpu().numpy()\n",
    "        else:\n",
    "            raise ValueError(f\"Model '{model}' not recognized. Please check the model name.\")\n",
    "        \n",
    "        return accuracy_score(self.y_val, y_pred)\n",
    "    \n",
    "    def evaluate_models(self):\n",
    "        for model in self.models:\n",
    "            self.accuracies[model] = self.get_accuracy(model)\n",
    "        \n",
    "    def display_results(self):\n",
    "        accuracy_df = pd.DataFrame(list(self.accuracies.items()), columns=['Model', 'Accuracy'])\n",
    "        print(accuracy_df)\n",
    "        return accuracy_df\n",
    "\n",
    "\n",
    "# List of models\n",
    "models = ['hard_voting', 'svm', 'knn', 'cnn', 'nn_classifier']\n",
    "\n",
    "# Model instances\n",
    "the_models = {\n",
    "    'hard_voting': hard_voting_model,\n",
    "    'svm': svm_model,\n",
    "    'knn': knn_classifier,\n",
    "    'cnn': cnn_model,\n",
    "    'nn_classifier': nn_classifier\n",
    "}\n",
    "\n",
    "# Instantiate and evaluate\n",
    "model_evaluator = ModelEvaluator(models, the_models, X_val, val_inputs_tensor, y_val)\n",
    "model_evaluator.evaluate_models()\n",
    "print('---Accuracy with bert embeddings---')\n",
    "accuracy_df = model_evaluator.display_results()\n"
   ]
  },
  {
   "cell_type": "code",
   "execution_count": null,
   "metadata": {},
   "outputs": [],
   "source": []
  },
  {
   "cell_type": "code",
   "execution_count": null,
   "metadata": {},
   "outputs": [],
   "source": []
  },
  {
   "cell_type": "code",
   "execution_count": null,
   "metadata": {},
   "outputs": [],
   "source": []
  }
 ],
 "metadata": {
  "kernelspec": {
   "display_name": "venv",
   "language": "python",
   "name": "python3"
  },
  "language_info": {
   "codemirror_mode": {
    "name": "ipython",
    "version": 3
   },
   "file_extension": ".py",
   "mimetype": "text/x-python",
   "name": "python",
   "nbconvert_exporter": "python",
   "pygments_lexer": "ipython3",
   "version": "3.10.9"
  },
  "orig_nbformat": 4
 },
 "nbformat": 4,
 "nbformat_minor": 2
}
