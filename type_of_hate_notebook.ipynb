{
 "cells": [
  {
   "cell_type": "code",
   "execution_count": 133,
   "metadata": {},
   "outputs": [],
   "source": [
    "from sklearn.preprocessing import LabelEncoder\n",
    "import warnings\n",
    "warnings.filterwarnings('ignore')\n",
    "import pandas as pd \n",
    "import numpy as np  \n",
    "import matplotlib.pyplot as plt\n",
    "import nltk\n",
    "from nltk.corpus import words\n",
    "import torch\n",
    "from Models.CNN import CNN,Model_training,load_data,plot_metrics,evaluate_cnn_model\n",
    "import re\n",
    "import language_tool_python\n",
    "from collections import Counter\n",
    "from PIL import Image\n",
    "from textblob import TextBlob\n",
    "import cufflinks as cf\n",
    "import plotly.express as px\n",
    "import plotly.figure_factory as ff\n",
    "from sklearn.metrics import accuracy_score, f1_score, classification_report, confusion_matrix\n",
    "# import torch\n",
    "# from transformers import PegasusForConditionalGeneration, PegasusTokenizer\n",
    "# from transformers import T5Tokenizer, T5ForConditionalGeneration\n",
    "# from transformers import GPT2Tokenizer, GPT2LMHeadModel\n",
    "from Prog.ModelEvaluator import ModelEvaluator\n",
    "from Models.HARDVOTING_multi import HardVotingClassifier\n",
    "from Models.XGBoost import XGBoostClassifier\n",
    "from Models.KNN import KNNClassifier \n",
    "from imblearn.over_sampling import SMOTE\n",
    "from Models.SVM import SVMClassifier\n",
    "from Models.LSTM import LSTMClassifier\n",
    "from sklearn.model_selection import train_test_split\n",
    "from wordcloud import WordCloud,STOPWORDS\n",
    "from nltk.corpus import stopwords\n",
    "from plotly import graph_objs as go\n",
    "from collections import defaultdict\n",
    "import pandas as pd\n",
    "from plotly import tools\n",
    "from plotly.offline import iplot\n",
    "from palettable.colorbrewer.qualitative import Pastel1_7\n",
    "\n",
    "\n"
   ]
  },
  {
   "cell_type": "code",
   "execution_count": 46,
   "metadata": {},
   "outputs": [],
   "source": [
    "from Preprocess.data_cleaning import DataCleaning\n",
    "from Preprocess.data_visualisation import Data_visualisation\n",
    "from Embeddings.Bert_Embeddings import BertEmbedding\n",
    "from Embeddings.Deberta_embed import DebertaEmbedding\n",
    "from Embeddings.Roberta_Embeddings import RobertaEmbedding"
   ]
  },
  {
   "cell_type": "markdown",
   "metadata": {},
   "source": [
    "### Read data"
   ]
  },
  {
   "cell_type": "code",
   "execution_count": 23,
   "metadata": {},
   "outputs": [],
   "source": [
    "df = pd.read_csv('C:/Users/iyadh/Desktop/hate_speech/Data/Ethos_Dataset_Multi_Label.csv', sep=';')"
   ]
  },
  {
   "cell_type": "code",
   "execution_count": 24,
   "metadata": {},
   "outputs": [
    {
     "data": {
      "text/plain": [
       "Index(['comment', 'violence', 'directed_vs_generalized', 'gender', 'race',\n",
       "       'national_origin', 'disability', 'religion', 'sexual_orientation'],\n",
       "      dtype='object')"
      ]
     },
     "execution_count": 24,
     "metadata": {},
     "output_type": "execute_result"
    }
   ],
   "source": [
    "df.columns"
   ]
  },
  {
   "cell_type": "code",
   "execution_count": 25,
   "metadata": {},
   "outputs": [
    {
     "data": {
      "text/html": [
       "<div>\n",
       "<style scoped>\n",
       "    .dataframe tbody tr th:only-of-type {\n",
       "        vertical-align: middle;\n",
       "    }\n",
       "\n",
       "    .dataframe tbody tr th {\n",
       "        vertical-align: top;\n",
       "    }\n",
       "\n",
       "    .dataframe thead th {\n",
       "        text-align: right;\n",
       "    }\n",
       "</style>\n",
       "<table border=\"1\" class=\"dataframe\">\n",
       "  <thead>\n",
       "    <tr style=\"text-align: right;\">\n",
       "      <th></th>\n",
       "      <th>comment</th>\n",
       "      <th>violence</th>\n",
       "      <th>directed_vs_generalized</th>\n",
       "      <th>gender</th>\n",
       "      <th>race</th>\n",
       "      <th>national_origin</th>\n",
       "      <th>disability</th>\n",
       "      <th>religion</th>\n",
       "      <th>sexual_orientation</th>\n",
       "    </tr>\n",
       "  </thead>\n",
       "  <tbody>\n",
       "    <tr>\n",
       "      <th>0</th>\n",
       "      <td>You should know women's sports are a joke</td>\n",
       "      <td>0.000000</td>\n",
       "      <td>0.000000</td>\n",
       "      <td>1.000000</td>\n",
       "      <td>0.000000</td>\n",
       "      <td>0.000000</td>\n",
       "      <td>0.0</td>\n",
       "      <td>0.0</td>\n",
       "      <td>0.0</td>\n",
       "    </tr>\n",
       "    <tr>\n",
       "      <th>1</th>\n",
       "      <td>You look like Sloth with deeper Down’s syndrome</td>\n",
       "      <td>0.000000</td>\n",
       "      <td>0.833333</td>\n",
       "      <td>0.000000</td>\n",
       "      <td>0.000000</td>\n",
       "      <td>0.000000</td>\n",
       "      <td>1.0</td>\n",
       "      <td>0.0</td>\n",
       "      <td>0.0</td>\n",
       "    </tr>\n",
       "    <tr>\n",
       "      <th>2</th>\n",
       "      <td>You look like Russian and speak like Indian. B...</td>\n",
       "      <td>1.000000</td>\n",
       "      <td>0.500000</td>\n",
       "      <td>0.142857</td>\n",
       "      <td>0.142857</td>\n",
       "      <td>0.714286</td>\n",
       "      <td>0.0</td>\n",
       "      <td>0.0</td>\n",
       "      <td>0.0</td>\n",
       "    </tr>\n",
       "    <tr>\n",
       "      <th>3</th>\n",
       "      <td>Women deserve to be abused, I guess.</td>\n",
       "      <td>0.666667</td>\n",
       "      <td>0.166667</td>\n",
       "      <td>1.000000</td>\n",
       "      <td>0.000000</td>\n",
       "      <td>0.000000</td>\n",
       "      <td>0.0</td>\n",
       "      <td>0.0</td>\n",
       "      <td>0.0</td>\n",
       "    </tr>\n",
       "  </tbody>\n",
       "</table>\n",
       "</div>"
      ],
      "text/plain": [
       "                                             comment  violence  \\\n",
       "0          You should know women's sports are a joke  0.000000   \n",
       "1    You look like Sloth with deeper Down’s syndrome  0.000000   \n",
       "2  You look like Russian and speak like Indian. B...  1.000000   \n",
       "3               Women deserve to be abused, I guess.  0.666667   \n",
       "\n",
       "   directed_vs_generalized    gender      race  national_origin  disability  \\\n",
       "0                 0.000000  1.000000  0.000000         0.000000         0.0   \n",
       "1                 0.833333  0.000000  0.000000         0.000000         1.0   \n",
       "2                 0.500000  0.142857  0.142857         0.714286         0.0   \n",
       "3                 0.166667  1.000000  0.000000         0.000000         0.0   \n",
       "\n",
       "   religion  sexual_orientation  \n",
       "0       0.0                 0.0  \n",
       "1       0.0                 0.0  \n",
       "2       0.0                 0.0  \n",
       "3       0.0                 0.0  "
      ]
     },
     "execution_count": 25,
     "metadata": {},
     "output_type": "execute_result"
    }
   ],
   "source": [
    "df.head(4)"
   ]
  },
  {
   "cell_type": "code",
   "execution_count": 26,
   "metadata": {},
   "outputs": [
    {
     "data": {
      "text/plain": [
       "comment                    0\n",
       "violence                   0\n",
       "directed_vs_generalized    0\n",
       "gender                     0\n",
       "race                       0\n",
       "national_origin            0\n",
       "disability                 0\n",
       "religion                   0\n",
       "sexual_orientation         0\n",
       "dtype: int64"
      ]
     },
     "execution_count": 26,
     "metadata": {},
     "output_type": "execute_result"
    }
   ],
   "source": [
    "df.isnull().sum()"
   ]
  },
  {
   "cell_type": "code",
   "execution_count": 27,
   "metadata": {},
   "outputs": [
    {
     "data": {
      "text/plain": [
       "(433, 9)"
      ]
     },
     "execution_count": 27,
     "metadata": {},
     "output_type": "execute_result"
    }
   ],
   "source": [
    "df.shape"
   ]
  },
  {
   "cell_type": "markdown",
   "metadata": {},
   "source": [
    "### Preprocess data"
   ]
  },
  {
   "cell_type": "code",
   "execution_count": 28,
   "metadata": {},
   "outputs": [],
   "source": [
    "# Create new DataFrame\n",
    "df_fin = df[['comment']].copy()\n",
    "cols = df.columns[1:]\n",
    "\n",
    "# Get the column name with the maximum value\n",
    "df_fin['class'] = df[cols].idxmax(axis=1)"
   ]
  },
  {
   "cell_type": "code",
   "execution_count": 29,
   "metadata": {},
   "outputs": [
    {
     "data": {
      "text/html": [
       "<div>\n",
       "<style scoped>\n",
       "    .dataframe tbody tr th:only-of-type {\n",
       "        vertical-align: middle;\n",
       "    }\n",
       "\n",
       "    .dataframe tbody tr th {\n",
       "        vertical-align: top;\n",
       "    }\n",
       "\n",
       "    .dataframe thead th {\n",
       "        text-align: right;\n",
       "    }\n",
       "</style>\n",
       "<table border=\"1\" class=\"dataframe\">\n",
       "  <thead>\n",
       "    <tr style=\"text-align: right;\">\n",
       "      <th></th>\n",
       "      <th>comment</th>\n",
       "      <th>class</th>\n",
       "    </tr>\n",
       "  </thead>\n",
       "  <tbody>\n",
       "    <tr>\n",
       "      <th>0</th>\n",
       "      <td>You should know women's sports are a joke</td>\n",
       "      <td>gender</td>\n",
       "    </tr>\n",
       "    <tr>\n",
       "      <th>1</th>\n",
       "      <td>You look like Sloth with deeper Down’s syndrome</td>\n",
       "      <td>disability</td>\n",
       "    </tr>\n",
       "    <tr>\n",
       "      <th>2</th>\n",
       "      <td>You look like Russian and speak like Indian. B...</td>\n",
       "      <td>violence</td>\n",
       "    </tr>\n",
       "    <tr>\n",
       "      <th>3</th>\n",
       "      <td>Women deserve to be abused, I guess.</td>\n",
       "      <td>gender</td>\n",
       "    </tr>\n",
       "  </tbody>\n",
       "</table>\n",
       "</div>"
      ],
      "text/plain": [
       "                                             comment       class\n",
       "0          You should know women's sports are a joke      gender\n",
       "1    You look like Sloth with deeper Down’s syndrome  disability\n",
       "2  You look like Russian and speak like Indian. B...    violence\n",
       "3               Women deserve to be abused, I guess.      gender"
      ]
     },
     "execution_count": 29,
     "metadata": {},
     "output_type": "execute_result"
    }
   ],
   "source": [
    "df_fin.head(4)"
   ]
  },
  {
   "cell_type": "code",
   "execution_count": 30,
   "metadata": {},
   "outputs": [
    {
     "data": {
      "text/plain": [
       "class\n",
       "violence                   82\n",
       "directed_vs_generalized    61\n",
       "religion                   58\n",
       "race                       58\n",
       "gender                     48\n",
       "sexual_orientation         45\n",
       "national_origin            44\n",
       "disability                 37\n",
       "Name: count, dtype: int64"
      ]
     },
     "execution_count": 30,
     "metadata": {},
     "output_type": "execute_result"
    }
   ],
   "source": [
    "df_fin['class'].value_counts()"
   ]
  },
  {
   "cell_type": "code",
   "execution_count": 31,
   "metadata": {},
   "outputs": [
    {
     "data": {
      "text/plain": [
       "comment    0\n",
       "class      0\n",
       "dtype: int64"
      ]
     },
     "execution_count": 31,
     "metadata": {},
     "output_type": "execute_result"
    }
   ],
   "source": [
    "df_fin.isnull().sum()"
   ]
  },
  {
   "cell_type": "markdown",
   "metadata": {},
   "source": [
    "## 2. Data Perprocessing"
   ]
  },
  {
   "cell_type": "code",
   "execution_count": 33,
   "metadata": {},
   "outputs": [],
   "source": [
    "df_fin['cleaned_comment'] = df['comment'].apply(DataCleaning.preprocess_text)"
   ]
  },
  {
   "cell_type": "code",
   "execution_count": 34,
   "metadata": {},
   "outputs": [
    {
     "data": {
      "text/html": [
       "<div>\n",
       "<style scoped>\n",
       "    .dataframe tbody tr th:only-of-type {\n",
       "        vertical-align: middle;\n",
       "    }\n",
       "\n",
       "    .dataframe tbody tr th {\n",
       "        vertical-align: top;\n",
       "    }\n",
       "\n",
       "    .dataframe thead th {\n",
       "        text-align: right;\n",
       "    }\n",
       "</style>\n",
       "<table border=\"1\" class=\"dataframe\">\n",
       "  <thead>\n",
       "    <tr style=\"text-align: right;\">\n",
       "      <th></th>\n",
       "      <th>comment</th>\n",
       "      <th>class</th>\n",
       "      <th>cleaned_comment</th>\n",
       "    </tr>\n",
       "  </thead>\n",
       "  <tbody>\n",
       "    <tr>\n",
       "      <th>0</th>\n",
       "      <td>You should know women's sports are a joke</td>\n",
       "      <td>gender</td>\n",
       "      <td>You should know women's sports are a joke</td>\n",
       "    </tr>\n",
       "    <tr>\n",
       "      <th>1</th>\n",
       "      <td>You look like Sloth with deeper Down’s syndrome</td>\n",
       "      <td>disability</td>\n",
       "      <td>You look like sloth with deeper downs syndrome</td>\n",
       "    </tr>\n",
       "    <tr>\n",
       "      <th>2</th>\n",
       "      <td>You look like Russian and speak like Indian. B...</td>\n",
       "      <td>violence</td>\n",
       "      <td>You look like Russian and speak like Indian bo...</td>\n",
       "    </tr>\n",
       "    <tr>\n",
       "      <th>3</th>\n",
       "      <td>Women deserve to be abused, I guess.</td>\n",
       "      <td>gender</td>\n",
       "      <td>Women deserve to be abused I guess</td>\n",
       "    </tr>\n",
       "    <tr>\n",
       "      <th>4</th>\n",
       "      <td>Women are made for making babies and cooking d...</td>\n",
       "      <td>gender</td>\n",
       "      <td>Women are made for making babies and cooking d...</td>\n",
       "    </tr>\n",
       "    <tr>\n",
       "      <th>...</th>\n",
       "      <td>...</td>\n",
       "      <td>...</td>\n",
       "      <td>...</td>\n",
       "    </tr>\n",
       "    <tr>\n",
       "      <th>428</th>\n",
       "      <td>All people are fucked up because of these quee...</td>\n",
       "      <td>gender</td>\n",
       "      <td>All people are fucked up because of this queer...</td>\n",
       "    </tr>\n",
       "    <tr>\n",
       "      <th>429</th>\n",
       "      <td>Actually THIS WEIRD PEOPLE are HARMFUL! They n...</td>\n",
       "      <td>directed_vs_generalized</td>\n",
       "      <td>Actually this weird people are harmful they ne...</td>\n",
       "    </tr>\n",
       "    <tr>\n",
       "      <th>430</th>\n",
       "      <td>ABU DA BI ABA DU BA BA HAMUD! See? I’m an arab...</td>\n",
       "      <td>religion</td>\n",
       "      <td>Abu the bi ABA Du ba Hamid see I am an Arab pr...</td>\n",
       "    </tr>\n",
       "    <tr>\n",
       "      <th>431</th>\n",
       "      <td>a homo? so you fuck your brother instead of yo...</td>\n",
       "      <td>sexual_orientation</td>\n",
       "      <td>A homo so you fuck your brother instead of you...</td>\n",
       "    </tr>\n",
       "    <tr>\n",
       "      <th>432</th>\n",
       "      <td>(((They))) will be chased out of every white c...</td>\n",
       "      <td>race</td>\n",
       "      <td>They will be chased out of every white country...</td>\n",
       "    </tr>\n",
       "  </tbody>\n",
       "</table>\n",
       "<p>433 rows × 3 columns</p>\n",
       "</div>"
      ],
      "text/plain": [
       "                                               comment  \\\n",
       "0            You should know women's sports are a joke   \n",
       "1      You look like Sloth with deeper Down’s syndrome   \n",
       "2    You look like Russian and speak like Indian. B...   \n",
       "3                 Women deserve to be abused, I guess.   \n",
       "4    Women are made for making babies and cooking d...   \n",
       "..                                                 ...   \n",
       "428  All people are fucked up because of these quee...   \n",
       "429  Actually THIS WEIRD PEOPLE are HARMFUL! They n...   \n",
       "430  ABU DA BI ABA DU BA BA HAMUD! See? I’m an arab...   \n",
       "431  a homo? so you fuck your brother instead of yo...   \n",
       "432  (((They))) will be chased out of every white c...   \n",
       "\n",
       "                       class  \\\n",
       "0                     gender   \n",
       "1                 disability   \n",
       "2                   violence   \n",
       "3                     gender   \n",
       "4                     gender   \n",
       "..                       ...   \n",
       "428                   gender   \n",
       "429  directed_vs_generalized   \n",
       "430                 religion   \n",
       "431       sexual_orientation   \n",
       "432                     race   \n",
       "\n",
       "                                       cleaned_comment  \n",
       "0            You should know women's sports are a joke  \n",
       "1       You look like sloth with deeper downs syndrome  \n",
       "2    You look like Russian and speak like Indian bo...  \n",
       "3                   Women deserve to be abused I guess  \n",
       "4    Women are made for making babies and cooking d...  \n",
       "..                                                 ...  \n",
       "428  All people are fucked up because of this queer...  \n",
       "429  Actually this weird people are harmful they ne...  \n",
       "430  Abu the bi ABA Du ba Hamid see I am an Arab pr...  \n",
       "431  A homo so you fuck your brother instead of you...  \n",
       "432  They will be chased out of every white country...  \n",
       "\n",
       "[433 rows x 3 columns]"
      ]
     },
     "execution_count": 34,
     "metadata": {},
     "output_type": "execute_result"
    }
   ],
   "source": [
    "df_fin"
   ]
  },
  {
   "cell_type": "code",
   "execution_count": null,
   "metadata": {},
   "outputs": [],
   "source": []
  },
  {
   "cell_type": "markdown",
   "metadata": {},
   "source": [
    "# 4. Data augmentation\n",
    "##### Since we dont have cuda were going to run in colab and u can find the notebooks in folder colab notebooks\n"
   ]
  },
  {
   "cell_type": "markdown",
   "metadata": {},
   "source": [
    "# 4. Data visulaisation"
   ]
  },
  {
   "cell_type": "code",
   "execution_count": null,
   "metadata": {},
   "outputs": [],
   "source": []
  },
  {
   "cell_type": "code",
   "execution_count": null,
   "metadata": {},
   "outputs": [],
   "source": []
  },
  {
   "cell_type": "markdown",
   "metadata": {},
   "source": [
    "# 5. Data modeling"
   ]
  },
  {
   "cell_type": "code",
   "execution_count": 37,
   "metadata": {},
   "outputs": [],
   "source": [
    "# Encode target variable\n",
    "le = LabelEncoder()\n",
    "df_fin['class'] = le.fit_transform(df_fin['class'])"
   ]
  },
  {
   "cell_type": "code",
   "execution_count": 43,
   "metadata": {},
   "outputs": [
    {
     "name": "stdout",
     "output_type": "stream",
     "text": [
      "Class: directed_vs_generalized, Encoded Value: 0\n",
      "Class: disability, Encoded Value: 1\n",
      "Class: gender, Encoded Value: 2\n",
      "Class: national_origin, Encoded Value: 3\n",
      "Class: race, Encoded Value: 4\n",
      "Class: religion, Encoded Value: 5\n",
      "Class: sexual_orientation, Encoded Value: 6\n",
      "Class: violence, Encoded Value: 7\n"
     ]
    }
   ],
   "source": [
    "# Create a mapping dictionary\n",
    "class_mapping = dict(zip(le.classes_, le.transform(le.classes_)))\n",
    "for class_name, encoded_value in class_mapping.items():\n",
    "    print(f\"Class: {class_name}, Encoded Value: {encoded_value}\")"
   ]
  },
  {
   "cell_type": "code",
   "execution_count": 153,
   "metadata": {},
   "outputs": [],
   "source": [
    "# Import generated data\n",
    "df = pd.read_csv('./Data/type_of_hate_fin.csv')"
   ]
  },
  {
   "cell_type": "markdown",
   "metadata": {},
   "source": [
    "## We'll start with bert embeddings"
   ]
  },
  {
   "cell_type": "code",
   "execution_count": 154,
   "metadata": {},
   "outputs": [],
   "source": [
    "df = df[['cleaned_comment', 'class']]"
   ]
  },
  {
   "cell_type": "code",
   "execution_count": 155,
   "metadata": {},
   "outputs": [
    {
     "data": {
      "text/html": [
       "<div>\n",
       "<style scoped>\n",
       "    .dataframe tbody tr th:only-of-type {\n",
       "        vertical-align: middle;\n",
       "    }\n",
       "\n",
       "    .dataframe tbody tr th {\n",
       "        vertical-align: top;\n",
       "    }\n",
       "\n",
       "    .dataframe thead th {\n",
       "        text-align: right;\n",
       "    }\n",
       "</style>\n",
       "<table border=\"1\" class=\"dataframe\">\n",
       "  <thead>\n",
       "    <tr style=\"text-align: right;\">\n",
       "      <th></th>\n",
       "      <th>cleaned_comment</th>\n",
       "      <th>class</th>\n",
       "    </tr>\n",
       "  </thead>\n",
       "  <tbody>\n",
       "    <tr>\n",
       "      <th>0</th>\n",
       "      <td>You should know women's sports are a joke</td>\n",
       "      <td>2</td>\n",
       "    </tr>\n",
       "    <tr>\n",
       "      <th>1</th>\n",
       "      <td>You look like sloth with deeper downs syndrome</td>\n",
       "      <td>1</td>\n",
       "    </tr>\n",
       "    <tr>\n",
       "      <th>2</th>\n",
       "      <td>You look like Russian and speak like Indian bo...</td>\n",
       "      <td>7</td>\n",
       "    </tr>\n",
       "    <tr>\n",
       "      <th>3</th>\n",
       "      <td>Women deserve to be abused I guess</td>\n",
       "      <td>2</td>\n",
       "    </tr>\n",
       "    <tr>\n",
       "      <th>4</th>\n",
       "      <td>Women are made for making babies and cooking d...</td>\n",
       "      <td>2</td>\n",
       "    </tr>\n",
       "    <tr>\n",
       "      <th>...</th>\n",
       "      <td>...</td>\n",
       "      <td>...</td>\n",
       "    </tr>\n",
       "    <tr>\n",
       "      <th>1727</th>\n",
       "      <td>You fuck your brother instead of your sister.</td>\n",
       "      <td>6</td>\n",
       "    </tr>\n",
       "    <tr>\n",
       "      <th>1728</th>\n",
       "      <td>You want to fuck your brother, not your sister.</td>\n",
       "      <td>6</td>\n",
       "    </tr>\n",
       "    <tr>\n",
       "      <th>1729</th>\n",
       "      <td>They will be chased out of every white country...</td>\n",
       "      <td>4</td>\n",
       "    </tr>\n",
       "    <tr>\n",
       "      <th>1730</th>\n",
       "      <td>They will be chased out of every white country...</td>\n",
       "      <td>4</td>\n",
       "    </tr>\n",
       "    <tr>\n",
       "      <th>1731</th>\n",
       "      <td>They will be chased out of every white country...</td>\n",
       "      <td>4</td>\n",
       "    </tr>\n",
       "  </tbody>\n",
       "</table>\n",
       "<p>1732 rows × 2 columns</p>\n",
       "</div>"
      ],
      "text/plain": [
       "                                        cleaned_comment  class\n",
       "0             You should know women's sports are a joke      2\n",
       "1        You look like sloth with deeper downs syndrome      1\n",
       "2     You look like Russian and speak like Indian bo...      7\n",
       "3                    Women deserve to be abused I guess      2\n",
       "4     Women are made for making babies and cooking d...      2\n",
       "...                                                 ...    ...\n",
       "1727      You fuck your brother instead of your sister.      6\n",
       "1728    You want to fuck your brother, not your sister.      6\n",
       "1729  They will be chased out of every white country...      4\n",
       "1730  They will be chased out of every white country...      4\n",
       "1731  They will be chased out of every white country...      4\n",
       "\n",
       "[1732 rows x 2 columns]"
      ]
     },
     "execution_count": 155,
     "metadata": {},
     "output_type": "execute_result"
    }
   ],
   "source": [
    "df"
   ]
  },
  {
   "cell_type": "code",
   "execution_count": 156,
   "metadata": {},
   "outputs": [
    {
     "name": "stdout",
     "output_type": "stream",
     "text": [
      "Data shapes : (1385, 2) (347, 2)\n"
     ]
    }
   ],
   "source": [
    "traindata,testdata=train_test_split(df,test_size=0.2,random_state=42)\n",
    "print('Data shapes :',traindata.shape,testdata.shape)"
   ]
  },
  {
   "cell_type": "code",
   "execution_count": 157,
   "metadata": {},
   "outputs": [],
   "source": [
    "train_comments = traindata['cleaned_comment'].values.tolist()\n",
    "train_labels = traindata['class'].values.tolist()\n",
    "test_comments = testdata['cleaned_comment'].values.tolist()\n",
    "test_labels = testdata['class'].values.tolist()\n",
    "\n",
    "train_comments, val_comments, train_labels, val_labels = train_test_split(train_comments, train_labels,\n",
    "                                                                            test_size=0.1,random_state=42,stratify=train_labels)"
   ]
  },
  {
   "cell_type": "code",
   "execution_count": 158,
   "metadata": {},
   "outputs": [
    {
     "name": "stdout",
     "output_type": "stream",
     "text": [
      "Comments len :\n",
      "----\n",
      "train_comments 1246\n",
      "test_comments 347\n",
      "valid_comments 139\n",
      "----\n"
     ]
    }
   ],
   "source": [
    "print('Comments len :')\n",
    "print('----')\n",
    "print('train_comments',len(train_comments))\n",
    "print('test_comments',len(test_comments))\n",
    "print('valid_comments',len(val_comments))\n",
    "print('----')"
   ]
  },
  {
   "cell_type": "code",
   "execution_count": 159,
   "metadata": {},
   "outputs": [],
   "source": [
    "# Instance of bert embeddings\n",
    "BertEmbed=BertEmbedding(train_comments, test_comments, val_comments)"
   ]
  },
  {
   "cell_type": "code",
   "execution_count": 160,
   "metadata": {},
   "outputs": [],
   "source": [
    "tokenizer, train_embeddings, val_embeddings, test_embeddings =  BertEmbed.generate_bert_embeddings()"
   ]
  },
  {
   "cell_type": "code",
   "execution_count": 161,
   "metadata": {},
   "outputs": [
    {
     "name": "stdout",
     "output_type": "stream",
     "text": [
      "(1246, 2)\n"
     ]
    },
    {
     "data": {
      "text/html": [
       "<div>\n",
       "<style scoped>\n",
       "    .dataframe tbody tr th:only-of-type {\n",
       "        vertical-align: middle;\n",
       "    }\n",
       "\n",
       "    .dataframe tbody tr th {\n",
       "        vertical-align: top;\n",
       "    }\n",
       "\n",
       "    .dataframe thead th {\n",
       "        text-align: right;\n",
       "    }\n",
       "</style>\n",
       "<table border=\"1\" class=\"dataframe\">\n",
       "  <thead>\n",
       "    <tr style=\"text-align: right;\">\n",
       "      <th></th>\n",
       "      <th>comment_embedding</th>\n",
       "      <th>label</th>\n",
       "    </tr>\n",
       "  </thead>\n",
       "  <tbody>\n",
       "    <tr>\n",
       "      <th>0</th>\n",
       "      <td>[-0.0076323026, 0.3019142, -0.616272, -0.17762...</td>\n",
       "      <td>2</td>\n",
       "    </tr>\n",
       "    <tr>\n",
       "      <th>1</th>\n",
       "      <td>[-0.35173276, 0.18555248, -0.23085448, 0.17836...</td>\n",
       "      <td>1</td>\n",
       "    </tr>\n",
       "    <tr>\n",
       "      <th>2</th>\n",
       "      <td>[-0.334541, -0.45035654, -0.8597468, 0.2097745...</td>\n",
       "      <td>3</td>\n",
       "    </tr>\n",
       "    <tr>\n",
       "      <th>3</th>\n",
       "      <td>[0.1578814, 0.20769781, -0.3390271, 0.04229983...</td>\n",
       "      <td>6</td>\n",
       "    </tr>\n",
       "  </tbody>\n",
       "</table>\n",
       "</div>"
      ],
      "text/plain": [
       "                                   comment_embedding  label\n",
       "0  [-0.0076323026, 0.3019142, -0.616272, -0.17762...      2\n",
       "1  [-0.35173276, 0.18555248, -0.23085448, 0.17836...      1\n",
       "2  [-0.334541, -0.45035654, -0.8597468, 0.2097745...      3\n",
       "3  [0.1578814, 0.20769781, -0.3390271, 0.04229983...      6"
      ]
     },
     "execution_count": 161,
     "metadata": {},
     "output_type": "execute_result"
    }
   ],
   "source": [
    "#Create train dataframe\n",
    "dfinter = []\n",
    "for emb, label in zip(train_embeddings, train_labels):\n",
    "    dfinter.append({'comment_embedding': emb, 'label': label})\n",
    "traindata = pd.DataFrame(dfinter)\n",
    "print(traindata.shape)\n",
    "traindata.head(4)"
   ]
  },
  {
   "cell_type": "code",
   "execution_count": 162,
   "metadata": {},
   "outputs": [
    {
     "name": "stdout",
     "output_type": "stream",
     "text": [
      "(347, 2)\n"
     ]
    },
    {
     "data": {
      "text/html": [
       "<div>\n",
       "<style scoped>\n",
       "    .dataframe tbody tr th:only-of-type {\n",
       "        vertical-align: middle;\n",
       "    }\n",
       "\n",
       "    .dataframe tbody tr th {\n",
       "        vertical-align: top;\n",
       "    }\n",
       "\n",
       "    .dataframe thead th {\n",
       "        text-align: right;\n",
       "    }\n",
       "</style>\n",
       "<table border=\"1\" class=\"dataframe\">\n",
       "  <thead>\n",
       "    <tr style=\"text-align: right;\">\n",
       "      <th></th>\n",
       "      <th>comment_embedding</th>\n",
       "      <th>label</th>\n",
       "    </tr>\n",
       "  </thead>\n",
       "  <tbody>\n",
       "    <tr>\n",
       "      <th>0</th>\n",
       "      <td>[-0.047765754, 0.2645685, -0.5950049, -0.06015...</td>\n",
       "      <td>7</td>\n",
       "    </tr>\n",
       "    <tr>\n",
       "      <th>1</th>\n",
       "      <td>[0.11265902, 0.18719116, -0.6417675, 0.3998339...</td>\n",
       "      <td>4</td>\n",
       "    </tr>\n",
       "    <tr>\n",
       "      <th>2</th>\n",
       "      <td>[-0.42546603, 0.22952607, -1.100261, -0.047380...</td>\n",
       "      <td>7</td>\n",
       "    </tr>\n",
       "    <tr>\n",
       "      <th>3</th>\n",
       "      <td>[0.5398975, 0.41006616, -0.16948217, 0.0512937...</td>\n",
       "      <td>4</td>\n",
       "    </tr>\n",
       "  </tbody>\n",
       "</table>\n",
       "</div>"
      ],
      "text/plain": [
       "                                   comment_embedding  label\n",
       "0  [-0.047765754, 0.2645685, -0.5950049, -0.06015...      7\n",
       "1  [0.11265902, 0.18719116, -0.6417675, 0.3998339...      4\n",
       "2  [-0.42546603, 0.22952607, -1.100261, -0.047380...      7\n",
       "3  [0.5398975, 0.41006616, -0.16948217, 0.0512937...      4"
      ]
     },
     "execution_count": 162,
     "metadata": {},
     "output_type": "execute_result"
    }
   ],
   "source": [
    "#Create test dataframe\n",
    "dfinter = []\n",
    "for emb, label in zip(test_embeddings, test_labels):\n",
    "    dfinter.append({'comment_embedding': emb, 'label': label})\n",
    "testdata = pd.DataFrame(dfinter)\n",
    "print(testdata.shape)\n",
    "testdata.head(4)"
   ]
  },
  {
   "cell_type": "code",
   "execution_count": 163,
   "metadata": {},
   "outputs": [
    {
     "name": "stdout",
     "output_type": "stream",
     "text": [
      "(139, 2)\n"
     ]
    },
    {
     "data": {
      "text/html": [
       "<div>\n",
       "<style scoped>\n",
       "    .dataframe tbody tr th:only-of-type {\n",
       "        vertical-align: middle;\n",
       "    }\n",
       "\n",
       "    .dataframe tbody tr th {\n",
       "        vertical-align: top;\n",
       "    }\n",
       "\n",
       "    .dataframe thead th {\n",
       "        text-align: right;\n",
       "    }\n",
       "</style>\n",
       "<table border=\"1\" class=\"dataframe\">\n",
       "  <thead>\n",
       "    <tr style=\"text-align: right;\">\n",
       "      <th></th>\n",
       "      <th>comment_embedding</th>\n",
       "      <th>label</th>\n",
       "    </tr>\n",
       "  </thead>\n",
       "  <tbody>\n",
       "    <tr>\n",
       "      <th>0</th>\n",
       "      <td>[0.12540539, 0.12908763, 0.016268156, -0.09504...</td>\n",
       "      <td>1</td>\n",
       "    </tr>\n",
       "    <tr>\n",
       "      <th>1</th>\n",
       "      <td>[-0.045072895, 0.46561813, -0.30640316, 0.2396...</td>\n",
       "      <td>4</td>\n",
       "    </tr>\n",
       "    <tr>\n",
       "      <th>2</th>\n",
       "      <td>[0.32372954, 0.42845735, 0.22263497, -0.085201...</td>\n",
       "      <td>5</td>\n",
       "    </tr>\n",
       "    <tr>\n",
       "      <th>3</th>\n",
       "      <td>[-0.116988614, 0.33750176, -0.56800735, -0.024...</td>\n",
       "      <td>6</td>\n",
       "    </tr>\n",
       "  </tbody>\n",
       "</table>\n",
       "</div>"
      ],
      "text/plain": [
       "                                   comment_embedding  label\n",
       "0  [0.12540539, 0.12908763, 0.016268156, -0.09504...      1\n",
       "1  [-0.045072895, 0.46561813, -0.30640316, 0.2396...      4\n",
       "2  [0.32372954, 0.42845735, 0.22263497, -0.085201...      5\n",
       "3  [-0.116988614, 0.33750176, -0.56800735, -0.024...      6"
      ]
     },
     "execution_count": 163,
     "metadata": {},
     "output_type": "execute_result"
    }
   ],
   "source": [
    "#Create val dataframe\n",
    "dfinter = []\n",
    "for emb, label in zip(val_embeddings, val_labels):\n",
    "    dfinter.append({'comment_embedding': emb, 'label': label})\n",
    "valdata = pd.DataFrame(dfinter)\n",
    "print(valdata.shape)\n",
    "valdata.head(4)"
   ]
  },
  {
   "cell_type": "markdown",
   "metadata": {},
   "source": [
    "### CNN"
   ]
  },
  {
   "cell_type": "code",
   "execution_count": 164,
   "metadata": {},
   "outputs": [
    {
     "name": "stdout",
     "output_type": "stream",
     "text": [
      "Epoch [20/20], Train Loss: 0.3306, Val Loss: 0.9342, Train Acc: 0.8933, Val Acc: 0.7194\n"
     ]
    }
   ],
   "source": [
    "#Get data\n",
    "train_data, val_data, test_data = load_data(traindata, valdata, testdata)\n",
    "\n",
    "cnn_model = CNN(768,8)\n",
    "\n",
    "# Entraînement du modèle\n",
    "trainer = Model_training(cnn_model, train_data, val_data,epochs=20)\n",
    "train_losses, val_losses, train_accuracies, val_accuracies = trainer.train()"
   ]
  },
  {
   "cell_type": "code",
   "execution_count": 165,
   "metadata": {},
   "outputs": [
    {
     "data": {
      "image/png": "[encoded data removed]",
      "text/plain": [
       "<Figure size 1000x500 with 1 Axes>"
      ]
     },
     "metadata": {},
     "output_type": "display_data"
    },
    {
     "data": {
      "image/png": "[encoded data removed]",
      "text/plain": [
       "<Figure size 1000x500 with 1 Axes>"
      ]
     },
     "metadata": {},
     "output_type": "display_data"
    }
   ],
   "source": [
    "plot_metrics(train_losses, val_losses, train_accuracies, val_accuracies)"
   ]
  },
  {
   "cell_type": "code",
   "execution_count": 166,
   "metadata": {},
   "outputs": [
    {
     "name": "stdout",
     "output_type": "stream",
     "text": [
      "Accuracy 0.8040, Precision: 0.8114, Recall: 0.8108, F1-score: 0.8069\n",
      "\n",
      "Classification Report:\n",
      "              precision    recall  f1-score   support\n",
      "\n",
      "           0       0.84      0.73      0.78        52\n",
      "           1       0.75      0.83      0.79        29\n",
      "           2       0.88      0.81      0.84        36\n",
      "           3       0.72      0.89      0.79        35\n",
      "           4       0.73      0.90      0.80        39\n",
      "           5       0.96      0.84      0.90        51\n",
      "           6       0.86      0.74      0.79        34\n",
      "           7       0.75      0.76      0.76        71\n",
      "\n",
      "    accuracy                           0.80       347\n",
      "   macro avg       0.81      0.81      0.81       347\n",
      "weighted avg       0.81      0.80      0.80       347\n",
      "\n"
     ]
    },
    {
     "data": {
      "image/png": "[encoded data removed]",
      "text/plain": [
       "<Figure size 600x500 with 2 Axes>"
      ]
     },
     "metadata": {},
     "output_type": "display_data"
    }
   ],
   "source": [
    "evaluate_cnn_model(cnn_model, test_data)"
   ]
  },
  {
   "cell_type": "markdown",
   "metadata": {},
   "source": [
    "## SVM"
   ]
  },
  {
   "cell_type": "code",
   "execution_count": 167,
   "metadata": {},
   "outputs": [],
   "source": [
    "X_train = np.array(traindata['comment_embedding'].tolist())\n",
    "y_train = np.array(traindata['label'])\n",
    "\n",
    "X_val = np.array(valdata['comment_embedding'].tolist())\n",
    "y_val = np.array(valdata['label'])\n",
    "\n",
    "X_test = np.array(testdata['comment_embedding'].tolist())\n",
    "y_test = np.array(testdata['label'])"
   ]
  },
  {
   "cell_type": "code",
   "execution_count": 168,
   "metadata": {},
   "outputs": [],
   "source": [
    "\n",
    "smote = SMOTE(random_state=42)\n",
    "X_train_resampled, y_train_resampled = smote.fit_resample(X_train, y_train)"
   ]
  },
  {
   "cell_type": "code",
   "execution_count": 169,
   "metadata": {},
   "outputs": [],
   "source": [
    "# Instanciation de l'objet SVMClassifier\n",
    "svm_model = SVMClassifier(kernel='linear')"
   ]
  },
  {
   "cell_type": "code",
   "execution_count": 170,
   "metadata": {},
   "outputs": [],
   "source": [
    "# Train SVM model\n",
    "svm_model.train_model(X_train_resampled,y_train_resampled)\n",
    "\n",
    "# Predict on test set\n",
    "y_pred = svm_model.predict_data(X_test)\n"
   ]
  },
  {
   "cell_type": "code",
   "execution_count": 171,
   "metadata": {},
   "outputs": [
    {
     "name": "stdout",
     "output_type": "stream",
     "text": [
      "Train Accuracy: 1.0000\n",
      "Validation Accuracy: 0.8058\n"
     ]
    }
   ],
   "source": [
    "# Vérifier les performances après l'entraînement\n",
    "train_accuracy = svm_model.model.score(X_train_resampled, y_train_resampled)\n",
    "val_accuracy = svm_model.model.score(X_val, y_val)\n",
    "\n",
    "print(f\"Train Accuracy: {train_accuracy:.4f}\")\n",
    "print(f\"Validation Accuracy: {val_accuracy:.4f}\")\n"
   ]
  },
  {
   "cell_type": "code",
   "execution_count": 172,
   "metadata": {},
   "outputs": [
    {
     "name": "stdout",
     "output_type": "stream",
     "text": [
      "Accuracy: 0.8617, Precision: 0.8660, Recall: 0.8787, F1-score: 0.8702\n",
      "\n",
      "Detailed Classification Report:\n",
      "              precision    recall  f1-score   support\n",
      "\n",
      "           0       0.82      0.87      0.84        52\n",
      "           1       0.90      0.93      0.92        29\n",
      "           2       0.94      0.89      0.91        36\n",
      "           3       0.85      0.97      0.91        35\n",
      "           4       0.73      0.85      0.79        39\n",
      "           5       0.92      0.88      0.90        51\n",
      "           6       0.89      0.91      0.90        34\n",
      "           7       0.88      0.73      0.80        71\n",
      "\n",
      "    accuracy                           0.86       347\n",
      "   macro avg       0.87      0.88      0.87       347\n",
      "weighted avg       0.87      0.86      0.86       347\n",
      "\n"
     ]
    },
    {
     "data": {
      "image/png": "[encoded data removed]",
      "text/plain": [
       "<Figure size 800x600 with 2 Axes>"
      ]
     },
     "metadata": {},
     "output_type": "display_data"
    }
   ],
   "source": [
    "svm_model.evaluate_svm_model(X_test, y_test)"
   ]
  },
  {
   "cell_type": "code",
   "execution_count": null,
   "metadata": {},
   "outputs": [],
   "source": []
  },
  {
   "cell_type": "markdown",
   "metadata": {},
   "source": [
    "### KNN"
   ]
  },
  {
   "cell_type": "code",
   "execution_count": 173,
   "metadata": {},
   "outputs": [],
   "source": [
    "knn_classifier = KNNClassifier(n_neighbors=3)"
   ]
  },
  {
   "cell_type": "code",
   "execution_count": 174,
   "metadata": {},
   "outputs": [],
   "source": [
    "# Train KNN model\n",
    "knn_classifier.train_model(X_train_resampled,y_train_resampled)\n"
   ]
  },
  {
   "cell_type": "code",
   "execution_count": 175,
   "metadata": {},
   "outputs": [
    {
     "name": "stdout",
     "output_type": "stream",
     "text": [
      "Accuracy: 0.7233, Precision: 0.7356, Recall: 0.7445, F1-score: 0.7288\n",
      "\n",
      "Detailed Classification Report:\n",
      "              precision    recall  f1-score   support\n",
      "\n",
      "           0       0.68      0.69      0.69        52\n",
      "           1       0.54      0.69      0.61        29\n",
      "           2       0.60      0.94      0.73        36\n",
      "           3       0.84      0.74      0.79        35\n",
      "           4       0.73      0.85      0.79        39\n",
      "           5       0.82      0.78      0.80        51\n",
      "           6       0.89      0.74      0.81        34\n",
      "           7       0.79      0.52      0.63        71\n",
      "\n",
      "    accuracy                           0.72       347\n",
      "   macro avg       0.74      0.74      0.73       347\n",
      "weighted avg       0.74      0.72      0.72       347\n",
      "\n"
     ]
    },
    {
     "data": {
      "image/png": "[encoded data removed]",
      "text/plain": [
       "<Figure size 800x600 with 2 Axes>"
      ]
     },
     "metadata": {},
     "output_type": "display_data"
    }
   ],
   "source": [
    "knn_classifier.evaluate_knn_model(X_test, y_test)"
   ]
  },
  {
   "cell_type": "markdown",
   "metadata": {},
   "source": [
    "### Neural network"
   ]
  },
  {
   "cell_type": "code",
   "execution_count": 176,
   "metadata": {},
   "outputs": [],
   "source": [
    "from Models.Neural_net import NeuralNetworkClassifier "
   ]
  },
  {
   "cell_type": "code",
   "execution_count": 177,
   "metadata": {},
   "outputs": [
    {
     "name": "stdout",
     "output_type": "stream",
     "text": [
      "Accuracy: 0.8473, Precision: 0.8514, Recall: 0.8614, F1-score: 0.8532\n",
      "\n",
      "Detailed Classification Report:\n",
      "              precision    recall  f1-score   support\n",
      "\n",
      "           0       0.87      0.75      0.80        52\n",
      "           1       0.89      0.86      0.88        29\n",
      "           2       0.94      0.92      0.93        36\n",
      "           3       0.74      0.91      0.82        35\n",
      "           4       0.75      0.92      0.83        39\n",
      "           5       0.90      0.88      0.89        51\n",
      "           6       0.86      0.88      0.87        34\n",
      "           7       0.86      0.76      0.81        71\n",
      "\n",
      "    accuracy                           0.85       347\n",
      "   macro avg       0.85      0.86      0.85       347\n",
      "weighted avg       0.85      0.85      0.85       347\n",
      "\n"
     ]
    },
    {
     "data": {
      "image/png": "[encoded data removed]",
      "text/plain": [
       "<Figure size 800x600 with 2 Axes>"
      ]
     },
     "metadata": {},
     "output_type": "display_data"
    }
   ],
   "source": [
    "nn_classifier = NeuralNetworkClassifier(hidden_layer_sizes=(100,), max_iter=200, activation='relu')\n",
    "\n",
    "# Train the model\n",
    "nn_classifier.train_model(X_train_resampled, y_train_resampled)\n",
    "\n",
    "# Evaluate the model\n",
    "nn_classifier.evaluate_nn_model(X_test, y_test)"
   ]
  },
  {
   "cell_type": "markdown",
   "metadata": {},
   "source": [
    "### Hard Voting"
   ]
  },
  {
   "cell_type": "code",
   "execution_count": 178,
   "metadata": {},
   "outputs": [
    {
     "name": "stdout",
     "output_type": "stream",
     "text": [
      "Accuracy of Hard Voting Classifier: 0.8058\n"
     ]
    }
   ],
   "source": [
    "# Initialize the HardVotingClassifier with all five models\n",
    "hard_voting_model = HardVotingClassifier(\n",
    "    svm_model=svm_model,\n",
    "    knn_model=knn_classifier,\n",
    "    cnn_model=cnn_model,\n",
    "    nn_model=nn_classifier\n",
    ")\n",
    "\n",
    "# Convert validation data to PyTorch tensor for CNN\n",
    "val_inputs_tensor = torch.tensor(X_val, dtype=torch.float32)\n",
    "\n",
    "# Perform predictions using the hard voting model\n",
    "y_pred = hard_voting_model.predict(X_val, val_inputs_tensor)\n",
    "\n",
    "# Evaluate the model performance (e.g., accuracy)\n",
    "accuracy = accuracy_score(y_val, y_pred)\n",
    "print(f'Accuracy of Hard Voting Classifier: {accuracy:.4f}')\n"
   ]
  },
  {
   "cell_type": "code",
   "execution_count": 179,
   "metadata": {},
   "outputs": [
    {
     "name": "stdout",
     "output_type": "stream",
     "text": [
      "Classification Report:\n",
      "              precision    recall  f1-score   support\n",
      "\n",
      "           0       0.67      0.74      0.70        19\n",
      "           1       1.00      0.83      0.91        12\n",
      "           2       0.80      1.00      0.89        16\n",
      "           3       0.75      0.86      0.80        14\n",
      "           4       0.79      0.79      0.79        19\n",
      "           5       0.84      0.89      0.86        18\n",
      "           6       1.00      0.80      0.89        15\n",
      "           7       0.77      0.65      0.71        26\n",
      "\n",
      "    accuracy                           0.81       139\n",
      "   macro avg       0.83      0.82      0.82       139\n",
      "weighted avg       0.81      0.81      0.81       139\n",
      "\n",
      "\n",
      "Confusion Matrix:\n"
     ]
    },
    {
     "data": {
      "image/png": "[encoded data removed]",
      "text/plain": [
       "<Figure size 800x600 with 2 Axes>"
      ]
     },
     "metadata": {},
     "output_type": "display_data"
    }
   ],
   "source": [
    "# Evaluate the model with the provided validation data\n",
    "hard_voting_model.evaluate(X_val, val_inputs_tensor, y_val)"
   ]
  },
  {
   "cell_type": "code",
   "execution_count": 186,
   "metadata": {},
   "outputs": [
    {
     "data": {
      "text/plain": [
       "['model.pkl']"
      ]
     },
     "execution_count": 186,
     "metadata": {},
     "output_type": "execute_result"
    }
   ],
   "source": [
    "import joblib\n",
    "\n",
    "# Save the model with joblib\n",
    "joblib.dump(svm_model, 'model.pkl')\n"
   ]
  },
  {
   "cell_type": "code",
   "execution_count": 187,
   "metadata": {},
   "outputs": [],
   "source": [
    "import pickle\n",
    "\n",
    "# Save the tokenizer with pickle\n",
    "with open(\"tokenizer_multi.pkl\", \"wb\") as f:\n",
    "    pickle.dump(tokenizer, f)\n"
   ]
  },
  {
   "cell_type": "code",
   "execution_count": 188,
   "metadata": {},
   "outputs": [
    {
     "name": "stdout",
     "output_type": "stream",
     "text": [
      "Train Accuracy: 1.0000\n",
      "Validation Accuracy: 0.8058\n"
     ]
    }
   ],
   "source": [
    "# import numpy as np\n",
    "# import pandas as pd\n",
    "# from sklearn.svm import SVC\n",
    "# from imblearn.over_sampling import SMOTE\n",
    "# import joblib\n",
    "# import pickle\n",
    "\n",
    "# # Vos données (exemple, remplacez par vos données réelles)\n",
    "# X_train = np.array(traindata['comment_embedding'].tolist())\n",
    "# y_train = np.array(traindata['label'])\n",
    "# X_val = np.array(valdata['comment_embedding'].tolist())\n",
    "# y_val = np.array(valdata['label'])\n",
    "# X_test = np.array(testdata['comment_embedding'].tolist())\n",
    "# y_test = np.array(testdata['label'])\n",
    "\n",
    "# # Appliquer SMOTE pour rééquilibrer les données\n",
    "# smote = SMOTE(random_state=42)\n",
    "# X_train_resampled, y_train_resampled = smote.fit_resample(X_train, y_train)\n",
    "\n",
    "# # Créer et entraîner le modèle SVC directement\n",
    "# svm_model = SVC(kernel='linear')\n",
    "# svm_model.fit(X_train_resampled, y_train_resampled)\n",
    "\n",
    "# # Prédire sur l'ensemble de test\n",
    "# y_pred = svm_model.predict(X_test)\n",
    "\n",
    "# # Vérifier les performances\n",
    "# train_accuracy = svm_model.score(X_train_resampled, y_train_resampled)\n",
    "# val_accuracy = svm_model.score(X_val, y_val)\n",
    "# print(f\"Train Accuracy: {train_accuracy:.4f}\")\n",
    "# print(f\"Validation Accuracy: {val_accuracy:.4f}\")\n",
    "\n",
    "# # Sauvegarder uniquement le modèle SVC avec joblib\n",
    "# joblib.dump(svm_model, 'model.pkl')\n",
    "\n",
    "# # Sauvegarder le tokenizer avec pickle\n",
    "# with open(\"tokenizer_multi.pkl\", \"wb\") as f:\n",
    "#     pickle.dump(tokenizer, f)"
   ]
  },
  {
   "cell_type": "code",
   "execution_count": null,
   "metadata": {},
   "outputs": [],
   "source": []
  }
 ],
 "metadata": {
  "kernelspec": {
   "display_name": "venv",
   "language": "python",
   "name": "python3"
  },
  "language_info": {
   "codemirror_mode": {
    "name": "ipython",
    "version": 3
   },
   "file_extension": ".py",
   "mimetype": "text/x-python",
   "name": "python",
   "nbconvert_exporter": "python",
   "pygments_lexer": "ipython3",
   "version": "3.10.9"
  },
  "orig_nbformat": 4
 },
 "nbformat": 4,
 "nbformat_minor": 2
}
